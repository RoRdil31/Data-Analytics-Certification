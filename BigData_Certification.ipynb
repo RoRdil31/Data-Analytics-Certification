{
 "cells": [
  {
   "cell_type": "markdown",
   "metadata": {},
   "source": [
    "# 1과목"
   ]
  },
  {
   "cell_type": "markdown",
   "metadata": {},
   "source": [
    "## Numpy Library 활용 (병합)"
   ]
  },
  {
   "cell_type": "code",
   "execution_count": 5,
   "metadata": {},
   "outputs": [
    {
     "name": "stdout",
     "output_type": "stream",
     "text": [
      "---concatenate---\n",
      "[[ 5  6  7]\n",
      " [ 8  9 10]\n",
      " [11 12 13]\n",
      " [14 15 16]] \n",
      "\n",
      "[[ 5  6  7 11 12 13]\n",
      " [ 8  9 10 14 15 16]] \n",
      "\n",
      "---stack---\n",
      "[[[ 5  6  7]\n",
      "  [ 8  9 10]]\n",
      "\n",
      " [[11 12 13]\n",
      "  [14 15 16]]] \n",
      "\n",
      "[[[ 5  6  7]\n",
      "  [11 12 13]]\n",
      "\n",
      " [[ 8  9 10]\n",
      "  [14 15 16]]] \n",
      "\n",
      "---append---\n",
      "[ 5  6  7  8  9 10 11 12 13 14 15 16] \n",
      "\n",
      "[[ 5  6  7 11 12 13]\n",
      " [ 8  9 10 14 15 16]] \n",
      "\n",
      "---split---\n",
      "[array([[ 5,  6,  7, 11, 12, 13]]), array([[ 8,  9, 10, 14, 15, 16]])] \n",
      "\n",
      "[array([[ 5,  6,  7],\n",
      "       [ 8,  9, 10]]), array([[11, 12, 13],\n",
      "       [14, 15, 16]])] \n",
      "\n"
     ]
    }
   ],
   "source": [
    "import numpy as np\n",
    "a = np.array([1,2,3,4])\n",
    "b = np.array([[5,6,7],[8,9,10]])\n",
    "c = np.array([[11,12,13],[14,15,16]])\n",
    "\n",
    "print(\"---concatenate---\") # => 결과 2차원\n",
    "con2 = np.concatenate((b,c)); print(con2,\"\\n\")\n",
    "con4 = np.concatenate((b,c), axis=1); print(con4,\"\\n\")\n",
    "\n",
    "print(\"---stack---\") # => 결과 3차원\n",
    "stack1 = np.stack((b,c)); print(stack1,\"\\n\")\n",
    "stack2 = np.stack((b,c), axis=1); print(stack2,\"\\n\")\n",
    "\n",
    "print(\"---append---\") # => 결과 1 or 2차원\n",
    "appd1 = np.append(b,c); print(appd1,\"\\n\")\n",
    "appd3 = np.append(b,c, axis=1); print(appd3,\"\\n\")\n",
    "\n",
    "print(\"---split---\")\n",
    "spt1 = np.split(appd3, 2); print(spt1,\"\\n\") # 2구간으로 나눔.\n",
    "spt2 = np.split(appd3, 2, axis=1); print(spt2,\"\\n\")\n"
   ]
  },
  {
   "cell_type": "markdown",
   "metadata": {},
   "source": [
    "## 구조적 프로그래밍"
   ]
  },
  {
   "cell_type": "code",
   "execution_count": 6,
   "metadata": {},
   "outputs": [
    {
     "name": "stdout",
     "output_type": "stream",
     "text": [
      "25.0\n",
      "25.0\n",
      "25.0\n"
     ]
    }
   ],
   "source": [
    "# 보통 함수\n",
    "def getArea(a,b):\n",
    "\tarea = a*b/2\n",
    "\treturn area\n",
    "print(getArea(5,10))\n",
    "\n",
    "# lambda 사용\n",
    "lam = lambda a,b : a*b/2\n",
    "print(lam(5,10))\n",
    "\n",
    "# lambda 사용 (값 지정)\n",
    "lam1 = (lambda a,b : a*b/2)(5,10)\n",
    "print(lam1)"
   ]
  },
  {
   "cell_type": "markdown",
   "metadata": {},
   "source": [
    "### lambda (map, filter)"
   ]
  },
  {
   "cell_type": "code",
   "execution_count": 7,
   "metadata": {},
   "outputs": [
    {
     "name": "stdout",
     "output_type": "stream",
     "text": [
      "[25.0, 33.0, 42.0]\n",
      "[6, 7, 8, 9] \n",
      "\n",
      "[10, 20, 30, 40, 50, 60, 14, 16, 18, 20] \n",
      "\n",
      "[4, 8, 12, 16, 20, 600, 700, 800, 900, 20]\n"
     ]
    }
   ],
   "source": [
    "print(list(map(lambda a,b : a*b/2, [5,6,7],[10,11,12])))\n",
    "\n",
    "x = [1,2,3,4,5,6,7,8,9,10]\n",
    "y = list(filter(lambda t : t>5 and t<10, x))\n",
    "# y2 = list(filter(lambda t : t>5 and t<10)) #안됨. ,x 있어야함.\n",
    "print(y,\"\\n\")\n",
    "\n",
    "z1 = lambda t : t*2 if t>6 else 10*t\n",
    "print(list(map(z1,x)),\"\\n\")\n",
    "\n",
    "z2 = lambda t : t*2 if t>9 else t*4 if t<6 else 100*t # 앞 if-else가 먼저. else일때 다음 if문 봄.\n",
    "print(list(map(z2,x)))"
   ]
  },
  {
   "cell_type": "markdown",
   "metadata": {},
   "source": [
    "### pipe 함수 : 함수 내에 함수를 연속적으로 적용."
   ]
  },
  {
   "cell_type": "code",
   "execution_count": 9,
   "metadata": {},
   "outputs": [
    {
     "name": "stdout",
     "output_type": "stream",
     "text": [
      "[1, 2, 3, 4, 5, 6, 7, 8, 9, 10]\n",
      "   number\n",
      "0       1\n",
      "1       4\n",
      "2       9\n",
      "3      16\n",
      "4      25\n",
      "5      36\n",
      "6      49\n",
      "7      64\n",
      "8      81\n",
      "9     100\n",
      "   number\n",
      "0     1.0\n",
      "1     2.0\n",
      "2     3.0\n",
      "3     4.0\n",
      "4     5.0\n",
      "5     6.0\n",
      "6     7.0\n",
      "7     8.0\n",
      "8     9.0\n",
      "9    10.0\n"
     ]
    }
   ],
   "source": [
    "import pandas as pd\n",
    "d = list(range(1,11,1)); print(d)\n",
    "x = pd.DataFrame(d, columns=['number'])\n",
    "\n",
    "lam1 = lambda t : t**2\n",
    "y = x.pipe(lam1); print(y)\n",
    "\n",
    "lam2 = lambda t : np.sqrt(t)\n",
    "z = x.pipe(lam1).pipe(lam2)\n",
    "print(z)"
   ]
  },
  {
   "cell_type": "markdown",
   "metadata": {},
   "source": [
    "# 2과목"
   ]
  },
  {
   "cell_type": "markdown",
   "metadata": {},
   "source": [
    "## 1. 데이터 수집과 전처리"
   ]
  },
  {
   "cell_type": "markdown",
   "metadata": {},
   "source": [
    "### 방향 순회 (행, 행_tuple)"
   ]
  },
  {
   "cell_type": "code",
   "execution_count": 23,
   "metadata": {},
   "outputs": [
    {
     "name": "stdout",
     "output_type": "stream",
     "text": [
      "1 성명    김민지\n",
      "나이     20\n",
      "Name: 1, dtype: object 김민지\n",
      "2 성명    민지\n",
      "나이    21\n",
      "Name: 2, dtype: object 민지\n",
      "3 성명    감자\n",
      "나이    22\n",
      "Name: 3, dtype: object 감자\n"
     ]
    }
   ],
   "source": [
    "data = pd.DataFrame({'학번':['1','2','3'],\n",
    "                     '성명':['김민지','민지','감자'],\n",
    "                     '나이':[20,21,22]})\n",
    "\n",
    "df = data.set_index('학번')\n",
    "\n",
    "# 행 방향 순회 : iterrows()\n",
    "for idx, row in df.iterrows():\n",
    "    print(idx, row,end=' ')\n",
    "    print(row['성명'])"
   ]
  },
  {
   "cell_type": "code",
   "execution_count": 24,
   "metadata": {},
   "outputs": [
    {
     "name": "stdout",
     "output_type": "stream",
     "text": [
      "Pandas(Index='1', 성명='김민지', 나이=20)\n",
      "1\n",
      "김민지\n",
      "20\n",
      "\n",
      "Pandas(Index='2', 성명='민지', 나이=21)\n",
      "2\n",
      "민지\n",
      "21\n",
      "\n",
      "Pandas(Index='3', 성명='감자', 나이=22)\n",
      "3\n",
      "감자\n",
      "22\n",
      "\n"
     ]
    }
   ],
   "source": [
    "# 행(tuple)별 순회 : itertuples()\n",
    "for item in df.itertuples():\n",
    "    print(item)\n",
    "    for i in range(len(item)):\n",
    "        print(item[i])\n",
    "    print()"
   ]
  },
  {
   "cell_type": "markdown",
   "metadata": {},
   "source": [
    "## 2. 기술통계 분석"
   ]
  },
  {
   "cell_type": "markdown",
   "metadata": {},
   "source": [
    "### 빈도분석 (Crosstab)"
   ]
  },
  {
   "cell_type": "code",
   "execution_count": 26,
   "metadata": {},
   "outputs": [
    {
     "name": "stdout",
     "output_type": "stream",
     "text": [
      "Preference  A  B\n",
      "Gender          \n",
      "Female      2  1\n",
      "Male        1  2\n"
     ]
    }
   ],
   "source": [
    "import pandas as pd\n",
    "\n",
    "data = {'Gender': ['Male', 'Female', 'Female', 'Male', 'Female', 'Male'],\n",
    "        'Preference': ['A', 'A', 'B', 'B', 'A', 'B']}\n",
    "df = pd.DataFrame(data)\n",
    "\n",
    "# Gender와 Preference의 교차표 생성\n",
    "crosstab = pd.crosstab(df['Gender'], df['Preference'])\n",
    "\n",
    "print(crosstab)\n"
   ]
  },
  {
   "cell_type": "markdown",
   "metadata": {},
   "source": [
    "### 기술통계 분석 기법"
   ]
  },
  {
   "cell_type": "markdown",
   "metadata": {},
   "source": [
    "#### 사분위수 (pandas, numpy, describe())\n"
   ]
  },
  {
   "cell_type": "code",
   "execution_count": null,
   "metadata": {},
   "outputs": [],
   "source": [
    "# quantile() 함수 이용 : pandas\n",
    "pd.price.quantile(0.25)\n",
    "\n",
    "# percentile() 함수 이용 : numpy\n",
    "np.percentile(df.price, 25)\n",
    "\n",
    "# describe() method 이용\n",
    "df.price.describe()['25%']"
   ]
  },
  {
   "cell_type": "markdown",
   "metadata": {},
   "source": [
    "#### 최빈값 (Counter 사용)"
   ]
  },
  {
   "cell_type": "code",
   "execution_count": null,
   "metadata": {},
   "outputs": [],
   "source": [
    "from collections import Counter\n",
    "\n",
    "cnt = Counter(df.price)\n",
    "cnt.most_common() #내림차순 정렬.\n",
    "cnt.most_common(7) # 상위 7개 추출."
   ]
  },
  {
   "cell_type": "markdown",
   "metadata": {},
   "source": [
    "#### 왜도, 첨도"
   ]
  },
  {
   "cell_type": "code",
   "execution_count": null,
   "metadata": {},
   "outputs": [],
   "source": [
    "from scipy.stats import skew, kurtosis\n",
    "\n",
    "# scipy.stats 모듈 이용\n",
    "skew(df.price)\n",
    "kurtosis(df.price, fisher=True) # fisher=True: 기준(정규분포의 첨도=0)\n",
    "\n",
    "# pandas 모듈 이용\n",
    "df.price.skew() # 왜도\n",
    "df.price.kurt() # 첨도"
   ]
  },
  {
   "cell_type": "markdown",
   "metadata": {},
   "source": [
    "### EDA"
   ]
  },
  {
   "cell_type": "markdown",
   "metadata": {},
   "source": [
    "#### stem()"
   ]
  },
  {
   "cell_type": "code",
   "execution_count": null,
   "metadata": {},
   "outputs": [],
   "source": [
    "import matplotlib.pyplot as plt\n",
    "import seaborn as sns\n",
    "\n",
    "x = df['1월']\n",
    "y = df['2월']\n",
    "\n",
    "plt.stem(x.index, x, use_line_collection=True) #줄기잎도표(인덱스, 1월, 수직)\n",
    "\n",
    "plt.stem(y.index, y, orientation='horizontal', use_line_collection=True) #줄기잎도표 (인덱스, 2월, 수평)\n"
   ]
  },
  {
   "cell_type": "markdown",
   "metadata": {},
   "source": [
    "#### Q-Q 도표"
   ]
  },
  {
   "cell_type": "code",
   "execution_count": null,
   "metadata": {},
   "outputs": [],
   "source": [
    "import scipy.stats as stats\n",
    "\n",
    "stats.probplot(x, dist=stats.norm, plot=plt)"
   ]
  },
  {
   "cell_type": "markdown",
   "metadata": {},
   "source": [
    "#### 주요 확률분포 클래스, 메소드 및 인수 => 127p"
   ]
  },
  {
   "cell_type": "code",
   "execution_count": 46,
   "metadata": {},
   "outputs": [
    {
     "data": {
      "text/plain": [
       "Text(0, 0.5, 'f(x)')"
      ]
     },
     "execution_count": 46,
     "metadata": {},
     "output_type": "execute_result"
    },
    {
     "data": {
      "image/png": "[encoded data removed]",
      "text/plain": [
       "<Figure size 640x480 with 1 Axes>"
      ]
     },
     "metadata": {},
     "output_type": "display_data"
    }
   ],
   "source": [
    "import matplotlib.pyplot as plt\n",
    "# import scipy as sp\n",
    "import scipy.stats as stats\n",
    "import numpy as np\n",
    "\n",
    "x = np.linspace(-8,8,100) # 표본값 생성\n",
    "rv = stats.norm() # 정규분포\n",
    "pdf = rv.pdf(x) # 확률밀도함수\n",
    "plt.plot(x, pdf); plt.title('Probability Density Function'); plt.xlabel('x value'); plt.ylabel('f(x)')\n"
   ]
  },
  {
   "cell_type": "markdown",
   "metadata": {},
   "source": [
    "# 3과목"
   ]
  },
  {
   "cell_type": "markdown",
   "metadata": {},
   "source": [
    "## 1. 상관관계 분석"
   ]
  },
  {
   "cell_type": "code",
   "execution_count": null,
   "metadata": {},
   "outputs": [],
   "source": [
    "from scipy import stats # 사이파이(가설 검정)\n",
    "import statistics as st # 통계량 (공분산, 상관계수) 계산\n",
    "from scipy.stats import wilcoxon # 윌콕슨 순위 검정 -> 비모수 통계분석"
   ]
  },
  {
   "cell_type": "markdown",
   "metadata": {},
   "source": [
    "### 공분산 & 상관계수"
   ]
  },
  {
   "cell_type": "code",
   "execution_count": null,
   "metadata": {},
   "outputs": [],
   "source": [
    "# 공분산 : 판다스 함수 이용\n",
    "df.cov().iloc[0,1]\n",
    "\n",
    "# 공분산 : statistics 모듈\n",
    "st.covariance(df['height'], df['weight'])\n",
    "\n",
    "# 공분산 : 넘파이 함수 이용\n",
    "np.cov(df['height'], df['weight'], ddof=0) #ddof=0 : 공분산 계산시 모집단 샘플수(n)로 계산."
   ]
  },
  {
   "cell_type": "code",
   "execution_count": null,
   "metadata": {},
   "outputs": [],
   "source": [
    "# 키-몸무게 사이 상관계수 : 판다스 모듈\n",
    "df.corr(method='pearson').iloc[0,1]\n",
    "df.corr(method='kendall').iloc[0,1]\n",
    "df.corr(method='spearman').iloc[0,1]\n",
    "\n",
    "# 키-몸무게 사이 상관계수 : statistics 모듈\n",
    "st.correlation(df['height'], df['weight'])\n",
    "\n",
    "from scipy import stats\n",
    "stats.pearsonr(df['height'], df['weight']) # 사이파이 모듈 이용 (상관계수, p-value)"
   ]
  },
  {
   "cell_type": "markdown",
   "metadata": {},
   "source": [
    "### 가설 검정 (scipy 라이브러리 활용)"
   ]
  },
  {
   "cell_type": "code",
   "execution_count": null,
   "metadata": {},
   "outputs": [],
   "source": [
    "from scipy import stats # 가설검정\n",
    "\n",
    "test = stats.ttest_ind(df['height'], df['weight']) # T-검정(평균 차이 가설검정), 귀무가설 : 키와 몸무게의 평균은 차이가 없다.\n",
    "\n",
    "test # T-검정 결과 (통계량, 유의확률(p-value))\n",
    "test[0], test[1] # 통계량, p-value"
   ]
  },
  {
   "cell_type": "markdown",
   "metadata": {},
   "source": [
    "### 비모수 통계 (윌콕슨 순위합 검정)"
   ]
  },
  {
   "cell_type": "code",
   "execution_count": 73,
   "metadata": {},
   "outputs": [
    {
     "name": "stdout",
     "output_type": "stream",
     "text": [
      "=== 공분산, 상관계수 (판다스 모듈 이용)===\n",
      "     국어        수학   영어\n",
      "국어  4.0  1.000000  1.0\n",
      "수학  1.0  4.333333  2.0\n",
      "영어  1.0  2.000000  1.0\n",
      "          국어        수학        영어\n",
      "국어  1.000000  0.240192  0.500000\n",
      "수학  0.240192  1.000000  0.960769\n",
      "영어  0.500000  0.960769  1.000000\n",
      "--------------------------------------------------------------\n",
      "=== 수학-영어 공분산, 상관계수 (statistics 모듈 이용)===\n",
      "2.0\n",
      "0.9607689228305226\n",
      "--------------------------------------------------------------\n",
      "=== 상관계수, p-value (Scipy 모듈 이용)===\n",
      "PearsonRResult(statistic=0.9607689228305225, pvalue=0.1789123750220675)\n",
      "0.9607689228305225\n",
      "0.1789123750220675\n",
      "--------------------------------------------------------------\n",
      "=== Wilcoxon 검정 결과 (통계량, 유의확률_p-value)===\n",
      "WilcoxonResult(statistic=2.0, pvalue=0.75)\n",
      "2.0\n",
      "0.75\n"
     ]
    }
   ],
   "source": [
    "import pandas as pd\n",
    "from scipy import stats\n",
    "import statistics as st\n",
    "from scipy.stats import wilcoxon\n",
    "import warnings; warnings.filterwarnings('ignore')\n",
    "\n",
    "data = pd.DataFrame({'ID':['1','2','3'],\n",
    "                    #  '성별':['여성','남성','남성'], # string 오류 뜸.\n",
    "                    #  '학년':['1','2','3'],\n",
    "                     '국어':[2,6,4],\n",
    "                     '수학':[2,3,6],\n",
    "                     '영어':[3,4,5]},\n",
    "                    columns = ['ID','국어','수학','영어'])\n",
    "df = data.set_index('ID')\n",
    "\n",
    "print(\"=== 공분산, 상관계수 (판다스 모듈 이용)===\")\n",
    "print(df.cov())\n",
    "print(df.corr())\n",
    "print('--------------------------------------------------------------')\n",
    "print(\"=== 수학-영어 공분산, 상관계수 (statistics 모듈 이용)===\")\n",
    "print(st.covariance(df['수학'], df['영어']))\n",
    "print(st.correlation(df['수학'], df['영어']))\n",
    "print('--------------------------------------------------------------')\n",
    "print(\"=== 상관계수, p-value (Scipy 모듈 이용)===\")\n",
    "print(stats.pearsonr(df['수학'], df['영어']))\n",
    "print(stats.pearsonr(df['수학'], df['영어'])[0])\n",
    "print(stats.pearsonr(df['수학'], df['영어'])[1])\n",
    "print('--------------------------------------------------------------')\n",
    "print(\"=== Wilcoxon 검정 결과 (통계량, 유의확률_p-value)===\")\n",
    "test = wilcoxon(df['수학'], df['영어'])\n",
    "print(test)\n",
    "print(test[0])\n",
    "print(test[1])\n"
   ]
  },
  {
   "cell_type": "markdown",
   "metadata": {},
   "source": [
    "## 2. 회귀분석"
   ]
  },
  {
   "cell_type": "code",
   "execution_count": null,
   "metadata": {},
   "outputs": [],
   "source": [
    "from statsmodels.formula.api import ols # 선형회귀분석 (Ordinary Least Squares)\n",
    "from sklearn.linear_model import LinearRegression # 선형회귀분석\n",
    "from sklearn import metrics # 정확도 평가 (MSE, MAE, R^2)\n",
    "import statsmodels.api as sm # 선형회귀분석 및 통계분석"
   ]
  },
  {
   "cell_type": "markdown",
   "metadata": {},
   "source": [
    "### 단순 회귀분석"
   ]
  },
  {
   "cell_type": "markdown",
   "metadata": {},
   "source": [
    "#### OLS"
   ]
  },
  {
   "cell_type": "code",
   "execution_count": 145,
   "metadata": {},
   "outputs": [
    {
     "name": "stdout",
     "output_type": "stream",
     "text": [
      "y = 3.450000000000011 x + -87.51666666666733\n",
      "\n",
      "키=67일 때 몸무게 실제값 :  142\n",
      "키=67일 때 몸무게 예측값 :  [143.63333333]\n",
      "키=67일 때 몸무게 예측값(기울기, y절편이용) :  143.63333333333338\n"
     ]
    }
   ],
   "source": [
    "import pandas as pd\n",
    "from statsmodels.formula.api import ols\n",
    "\n",
    "df = pd.read_csv(\"data/women.csv\",header=0, index_col=0) # header=0:컬럼명이 첫 번째 행에 위치. index_col=0 : 첫 컬럼을 인덱스 열로 사용.\n",
    "x,y = df['height'], df['weight']\n",
    "model = ols('y ~ x', data=df).fit() # 선형회귀분석 모형 구축\n",
    "\n",
    "model.summary() # 모형 적합 결과 요약\n",
    "\n",
    "# 기울기, y절편 추정값\n",
    "print(f'y = {model.params.x} x + {model.params.Intercept}\\n') \n",
    "\n",
    "# 독립변수 추정값 (키에 따른 종속변수(몸무게))\n",
    "model.fittedvalues\n",
    "\n",
    "# 잔차값, Residuals\n",
    "model.resid\n",
    "\n",
    "# 잔차값의 평균\n",
    "model.resid.mean()\n",
    "\n",
    "# 키(67 inches)에 대한 몸무게(pounds) 예측값\n",
    "print(\"키=67일 때 몸무게 실제값 : \",data.iloc[9,1])\n",
    "print(\"키=67일 때 몸무게 예측값 : \",model.predict(exog=dict(x=67)).values)\n",
    "print(\"키=67일 때 몸무게 예측값(기울기, y절편이용) : \",model.params.Intercept+67*model.params.x)\n"
   ]
  },
  {
   "cell_type": "code",
   "execution_count": 147,
   "metadata": {},
   "outputs": [
    {
     "data": {
      "text/plain": [
       "[<matplotlib.lines.Line2D at 0x1bbe1ad8890>]"
      ]
     },
     "execution_count": 147,
     "metadata": {},
     "output_type": "execute_result"
    },
    {
     "data": {
      "image/png": "[encoded data removed]",
      "text/plain": [
       "<Figure size 640x480 with 1 Axes>"
      ]
     },
     "metadata": {},
     "output_type": "display_data"
    }
   ],
   "source": [
    "import matplotlib.pyplot as plt\n",
    "\n",
    "plt.scatter(x, y)\n",
    "plt.plot(x, model.fittedvalues, color=\"red\")"
   ]
  },
  {
   "cell_type": "code",
   "execution_count": 148,
   "metadata": {},
   "outputs": [
    {
     "data": {
      "text/html": [
       "<table class=\"simpletable\">\n",
       "<caption>OLS Regression Results</caption>\n",
       "<tr>\n",
       "  <th>Dep. Variable:</th>            <td>y</td>        <th>  R-squared:         </th> <td>   0.991</td>\n",
       "</tr>\n",
       "<tr>\n",
       "  <th>Model:</th>                   <td>OLS</td>       <th>  Adj. R-squared:    </th> <td>   0.990</td>\n",
       "</tr>\n",
       "<tr>\n",
       "  <th>Method:</th>             <td>Least Squares</td>  <th>  F-statistic:       </th> <td>   1433.</td>\n",
       "</tr>\n",
       "<tr>\n",
       "  <th>Date:</th>             <td>Sat, 09 Nov 2024</td> <th>  Prob (F-statistic):</th> <td>1.09e-14</td>\n",
       "</tr>\n",
       "<tr>\n",
       "  <th>Time:</th>                 <td>19:15:06</td>     <th>  Log-Likelihood:    </th> <td> -26.541</td>\n",
       "</tr>\n",
       "<tr>\n",
       "  <th>No. Observations:</th>      <td>    15</td>      <th>  AIC:               </th> <td>   57.08</td>\n",
       "</tr>\n",
       "<tr>\n",
       "  <th>Df Residuals:</th>          <td>    13</td>      <th>  BIC:               </th> <td>   58.50</td>\n",
       "</tr>\n",
       "<tr>\n",
       "  <th>Df Model:</th>              <td>     1</td>      <th>                     </th>     <td> </td>   \n",
       "</tr>\n",
       "<tr>\n",
       "  <th>Covariance Type:</th>      <td>nonrobust</td>    <th>                     </th>     <td> </td>   \n",
       "</tr>\n",
       "</table>\n",
       "<table class=\"simpletable\">\n",
       "<tr>\n",
       "      <td></td>         <th>coef</th>     <th>std err</th>      <th>t</th>      <th>P>|t|</th>  <th>[0.025</th>    <th>0.975]</th>  \n",
       "</tr>\n",
       "<tr>\n",
       "  <th>Intercept</th> <td>  -87.5167</td> <td>    5.937</td> <td>  -14.741</td> <td> 0.000</td> <td> -100.343</td> <td>  -74.691</td>\n",
       "</tr>\n",
       "<tr>\n",
       "  <th>x</th>         <td>    3.4500</td> <td>    0.091</td> <td>   37.855</td> <td> 0.000</td> <td>    3.253</td> <td>    3.647</td>\n",
       "</tr>\n",
       "</table>\n",
       "<table class=\"simpletable\">\n",
       "<tr>\n",
       "  <th>Omnibus:</th>       <td> 2.396</td> <th>  Durbin-Watson:     </th> <td>   0.315</td>\n",
       "</tr>\n",
       "<tr>\n",
       "  <th>Prob(Omnibus):</th> <td> 0.302</td> <th>  Jarque-Bera (JB):  </th> <td>   1.660</td>\n",
       "</tr>\n",
       "<tr>\n",
       "  <th>Skew:</th>          <td> 0.789</td> <th>  Prob(JB):          </th> <td>   0.436</td>\n",
       "</tr>\n",
       "<tr>\n",
       "  <th>Kurtosis:</th>      <td> 2.596</td> <th>  Cond. No.          </th> <td>    982.</td>\n",
       "</tr>\n",
       "</table><br/><br/>Notes:<br/>[1] Standard Errors assume that the covariance matrix of the errors is correctly specified."
      ],
      "text/latex": [
       "\\begin{center}\n",
       "\\begin{tabular}{lclc}\n",
       "\\toprule\n",
       "\\textbf{Dep. Variable:}    &        y         & \\textbf{  R-squared:         } &     0.991   \\\\\n",
       "\\textbf{Model:}            &       OLS        & \\textbf{  Adj. R-squared:    } &     0.990   \\\\\n",
       "\\textbf{Method:}           &  Least Squares   & \\textbf{  F-statistic:       } &     1433.   \\\\\n",
       "\\textbf{Date:}             & Sat, 09 Nov 2024 & \\textbf{  Prob (F-statistic):} &  1.09e-14   \\\\\n",
       "\\textbf{Time:}             &     19:15:06     & \\textbf{  Log-Likelihood:    } &   -26.541   \\\\\n",
       "\\textbf{No. Observations:} &          15      & \\textbf{  AIC:               } &     57.08   \\\\\n",
       "\\textbf{Df Residuals:}     &          13      & \\textbf{  BIC:               } &     58.50   \\\\\n",
       "\\textbf{Df Model:}         &           1      & \\textbf{                     } &             \\\\\n",
       "\\textbf{Covariance Type:}  &    nonrobust     & \\textbf{                     } &             \\\\\n",
       "\\bottomrule\n",
       "\\end{tabular}\n",
       "\\begin{tabular}{lcccccc}\n",
       "                   & \\textbf{coef} & \\textbf{std err} & \\textbf{t} & \\textbf{P$> |$t$|$} & \\textbf{[0.025} & \\textbf{0.975]}  \\\\\n",
       "\\midrule\n",
       "\\textbf{Intercept} &     -87.5167  &        5.937     &   -14.741  &         0.000        &     -100.343    &      -74.691     \\\\\n",
       "\\textbf{x}         &       3.4500  &        0.091     &    37.855  &         0.000        &        3.253    &        3.647     \\\\\n",
       "\\bottomrule\n",
       "\\end{tabular}\n",
       "\\begin{tabular}{lclc}\n",
       "\\textbf{Omnibus:}       &  2.396 & \\textbf{  Durbin-Watson:     } &    0.315  \\\\\n",
       "\\textbf{Prob(Omnibus):} &  0.302 & \\textbf{  Jarque-Bera (JB):  } &    1.660  \\\\\n",
       "\\textbf{Skew:}          &  0.789 & \\textbf{  Prob(JB):          } &    0.436  \\\\\n",
       "\\textbf{Kurtosis:}      &  2.596 & \\textbf{  Cond. No.          } &     982.  \\\\\n",
       "\\bottomrule\n",
       "\\end{tabular}\n",
       "%\\caption{OLS Regression Results}\n",
       "\\end{center}\n",
       "\n",
       "Notes: \\newline\n",
       " [1] Standard Errors assume that the covariance matrix of the errors is correctly specified."
      ],
      "text/plain": [
       "<class 'statsmodels.iolib.summary.Summary'>\n",
       "\"\"\"\n",
       "                            OLS Regression Results                            \n",
       "==============================================================================\n",
       "Dep. Variable:                      y   R-squared:                       0.991\n",
       "Model:                            OLS   Adj. R-squared:                  0.990\n",
       "Method:                 Least Squares   F-statistic:                     1433.\n",
       "Date:                Sat, 09 Nov 2024   Prob (F-statistic):           1.09e-14\n",
       "Time:                        19:15:06   Log-Likelihood:                -26.541\n",
       "No. Observations:                  15   AIC:                             57.08\n",
       "Df Residuals:                      13   BIC:                             58.50\n",
       "Df Model:                           1                                         \n",
       "Covariance Type:            nonrobust                                         \n",
       "==============================================================================\n",
       "                 coef    std err          t      P>|t|      [0.025      0.975]\n",
       "------------------------------------------------------------------------------\n",
       "Intercept    -87.5167      5.937    -14.741      0.000    -100.343     -74.691\n",
       "x              3.4500      0.091     37.855      0.000       3.253       3.647\n",
       "==============================================================================\n",
       "Omnibus:                        2.396   Durbin-Watson:                   0.315\n",
       "Prob(Omnibus):                  0.302   Jarque-Bera (JB):                1.660\n",
       "Skew:                           0.789   Prob(JB):                        0.436\n",
       "Kurtosis:                       2.596   Cond. No.                         982.\n",
       "==============================================================================\n",
       "\n",
       "Notes:\n",
       "[1] Standard Errors assume that the covariance matrix of the errors is correctly specified.\n",
       "\"\"\""
      ]
     },
     "execution_count": 148,
     "metadata": {},
     "output_type": "execute_result"
    }
   ],
   "source": [
    "model.summary()"
   ]
  },
  {
   "cell_type": "markdown",
   "metadata": {},
   "source": [
    "#### LinearRegression()"
   ]
  },
  {
   "cell_type": "code",
   "execution_count": 158,
   "metadata": {},
   "outputs": [
    {
     "name": "stdout",
     "output_type": "stream",
     "text": [
      "y절편 :  -87.51666666666657\n",
      "기울기 :  [3.45]\n",
      "키=67일 때 몸무게 실제값 :  142\n",
      "키=67일 때 몸무게 예측값 :  [143.63333333]\n",
      "실제값<->예측값의 상대오차 =>  [1.15023474]\n"
     ]
    }
   ],
   "source": [
    "from sklearn.linear_model import LinearRegression\n",
    "\n",
    "data = pd.read_csv(\"data/women.csv\",header=0, index_col=0)\n",
    "\n",
    "x = data['height'].values.reshape(-1,1) # 2차원 배열로 변경.\n",
    "y = data['weight']\n",
    "model = LinearRegression().fit(x,y)\n",
    "\n",
    "print('y절편 : ', model.intercept_)\n",
    "print('기울기 : ', model.coef_)\n",
    "\n",
    "residual = y - model.predict(x) # 잔차\n",
    "residual.mean() # 잔차값의 평균\n",
    "\n",
    "w67 = data.loc[data['height']==67, 'weight'].values[0]\n",
    "print(\"키=67일 때 몸무게 실제값 : \",w67)\n",
    "print(\"키=67일 때 몸무게 예측값 : \",model.predict([[67]]))\n",
    "\n",
    "# 실제값과 예측값 사이의 상대오차 (%)\n",
    "print('실제값<->예측값의 상대오차 => ', abs(w67 - model.predict([[67]]))/w67*100)"
   ]
  },
  {
   "cell_type": "markdown",
   "metadata": {},
   "source": [
    "### 다중 회귀분석"
   ]
  },
  {
   "cell_type": "code",
   "execution_count": null,
   "metadata": {},
   "outputs": [
    {
     "data": {
      "text/html": [
       "<div>\n",
       "<style scoped>\n",
       "    .dataframe tbody tr th:only-of-type {\n",
       "        vertical-align: middle;\n",
       "    }\n",
       "\n",
       "    .dataframe tbody tr th {\n",
       "        vertical-align: top;\n",
       "    }\n",
       "\n",
       "    .dataframe thead th {\n",
       "        text-align: right;\n",
       "    }\n",
       "</style>\n",
       "<table border=\"1\" class=\"dataframe\">\n",
       "  <thead>\n",
       "    <tr style=\"text-align: right;\">\n",
       "      <th></th>\n",
       "      <th>DriversKilled</th>\n",
       "      <th>drivers</th>\n",
       "      <th>front</th>\n",
       "      <th>rear</th>\n",
       "      <th>kms</th>\n",
       "      <th>PetrolPrice</th>\n",
       "      <th>VanKilled</th>\n",
       "      <th>law</th>\n",
       "    </tr>\n",
       "  </thead>\n",
       "  <tbody>\n",
       "    <tr>\n",
       "      <th>1</th>\n",
       "      <td>107</td>\n",
       "      <td>1687</td>\n",
       "      <td>867</td>\n",
       "      <td>269</td>\n",
       "      <td>9059</td>\n",
       "      <td>0.102972</td>\n",
       "      <td>12</td>\n",
       "      <td>0</td>\n",
       "    </tr>\n",
       "    <tr>\n",
       "      <th>2</th>\n",
       "      <td>97</td>\n",
       "      <td>1508</td>\n",
       "      <td>825</td>\n",
       "      <td>265</td>\n",
       "      <td>7685</td>\n",
       "      <td>0.102363</td>\n",
       "      <td>6</td>\n",
       "      <td>0</td>\n",
       "    </tr>\n",
       "  </tbody>\n",
       "</table>\n",
       "</div>"
      ],
      "text/plain": [
       "   DriversKilled  drivers  front  rear   kms  PetrolPrice  VanKilled  law\n",
       "1            107     1687    867   269  9059     0.102972         12    0\n",
       "2             97     1508    825   265  7685     0.102363          6    0"
      ]
     },
     "execution_count": 167,
     "metadata": {},
     "output_type": "execute_result"
    }
   ],
   "source": [
    "import seaborn as sns\n",
    "\n",
    "data = pd.read_csv(\"data/seatbelts.csv\", header=0, index_col=0)\n",
    "data.head(2)\n",
    "# DriversKilled\t=> y (종속변수)"
   ]
  },
  {
   "cell_type": "code",
   "execution_count": null,
   "metadata": {},
   "outputs": [
    {
     "data": {
      "image/png": "[encoded data removed]",
      "text/plain": [
       "<Figure size 640x480 with 9 Axes>"
      ]
     },
     "metadata": {},
     "output_type": "display_data"
    }
   ],
   "source": [
    "cols = ['drivers','front','DriversKilled'] # 사고발생건수, 앞좌석 승객수, 사망자수\n",
    "\n",
    "for i, col in enumerate(cols):\n",
    "    for i2, col2 in enumerate(cols):\n",
    "        plt.subplot2grid((3,3), (i,i2))\n",
    "        plt.plot(data[col], data[col2], marker='o')\n"
   ]
  },
  {
   "cell_type": "markdown",
   "metadata": {},
   "source": [
    "해석 : (front에 비해) drivers 요인이 DriversKilled에 다소 많은 영향을 미침.\n",
    "\n",
    "즉, 사고 많이 발생 => 사망자수 증가."
   ]
  },
  {
   "cell_type": "markdown",
   "metadata": {},
   "source": [
    "#### OLS"
   ]
  },
  {
   "cell_type": "code",
   "execution_count": null,
   "metadata": {},
   "outputs": [
    {
     "data": {
      "text/html": [
       "<table class=\"simpletable\">\n",
       "<caption>OLS Regression Results</caption>\n",
       "<tr>\n",
       "  <th>Dep. Variable:</th>            <td>y</td>        <th>  R-squared:         </th> <td>   0.798</td>\n",
       "</tr>\n",
       "<tr>\n",
       "  <th>Model:</th>                   <td>OLS</td>       <th>  Adj. R-squared:    </th> <td>   0.793</td>\n",
       "</tr>\n",
       "<tr>\n",
       "  <th>Method:</th>             <td>Least Squares</td>  <th>  F-statistic:       </th> <td>   147.2</td>\n",
       "</tr>\n",
       "<tr>\n",
       "  <th>Date:</th>             <td>Sat, 09 Nov 2024</td> <th>  Prob (F-statistic):</th> <td>1.10e-62</td>\n",
       "</tr>\n",
       "<tr>\n",
       "  <th>Time:</th>                 <td>19:42:17</td>     <th>  Log-Likelihood:    </th> <td> -739.19</td>\n",
       "</tr>\n",
       "<tr>\n",
       "  <th>No. Observations:</th>      <td>   192</td>      <th>  AIC:               </th> <td>   1490.</td>\n",
       "</tr>\n",
       "<tr>\n",
       "  <th>Df Residuals:</th>          <td>   186</td>      <th>  BIC:               </th> <td>   1510.</td>\n",
       "</tr>\n",
       "<tr>\n",
       "  <th>Df Model:</th>              <td>     5</td>      <th>                     </th>     <td> </td>   \n",
       "</tr>\n",
       "<tr>\n",
       "  <th>Covariance Type:</th>      <td>nonrobust</td>    <th>                     </th>     <td> </td>   \n",
       "</tr>\n",
       "</table>\n",
       "<table class=\"simpletable\">\n",
       "<tr>\n",
       "      <td></td>         <th>coef</th>     <th>std err</th>      <th>t</th>      <th>P>|t|</th>  <th>[0.025</th>    <th>0.975]</th>  \n",
       "</tr>\n",
       "<tr>\n",
       "  <th>Intercept</th> <td>  -19.5229</td> <td>   14.016</td> <td>   -1.393</td> <td> 0.165</td> <td>  -47.174</td> <td>    8.128</td>\n",
       "</tr>\n",
       "<tr>\n",
       "  <th>x[0]</th>      <td>    0.0850</td> <td>    0.005</td> <td>   16.239</td> <td> 0.000</td> <td>    0.075</td> <td>    0.095</td>\n",
       "</tr>\n",
       "<tr>\n",
       "  <th>x[1]</th>      <td>   -0.0147</td> <td>    0.013</td> <td>   -1.104</td> <td> 0.271</td> <td>   -0.041</td> <td>    0.012</td>\n",
       "</tr>\n",
       "<tr>\n",
       "  <th>x[2]</th>      <td>    0.0190</td> <td>    0.020</td> <td>    0.928</td> <td> 0.355</td> <td>   -0.021</td> <td>    0.059</td>\n",
       "</tr>\n",
       "<tr>\n",
       "  <th>x[3]</th>      <td>    0.0005</td> <td>    0.000</td> <td>    1.067</td> <td> 0.287</td> <td>   -0.000</td> <td>    0.001</td>\n",
       "</tr>\n",
       "<tr>\n",
       "  <th>x[4]</th>      <td>  -23.4613</td> <td>   85.830</td> <td>   -0.273</td> <td> 0.785</td> <td> -192.787</td> <td>  145.865</td>\n",
       "</tr>\n",
       "</table>\n",
       "<table class=\"simpletable\">\n",
       "<tr>\n",
       "  <th>Omnibus:</th>       <td> 2.639</td> <th>  Durbin-Watson:     </th> <td>   1.977</td>\n",
       "</tr>\n",
       "<tr>\n",
       "  <th>Prob(Omnibus):</th> <td> 0.267</td> <th>  Jarque-Bera (JB):  </th> <td>   2.589</td>\n",
       "</tr>\n",
       "<tr>\n",
       "  <th>Skew:</th>          <td> 0.282</td> <th>  Prob(JB):          </th> <td>   0.274</td>\n",
       "</tr>\n",
       "<tr>\n",
       "  <th>Kurtosis:</th>      <td> 2.926</td> <th>  Cond. No.          </th> <td>1.60e+06</td>\n",
       "</tr>\n",
       "</table><br/><br/>Notes:<br/>[1] Standard Errors assume that the covariance matrix of the errors is correctly specified.<br/>[2] The condition number is large, 1.6e+06. This might indicate that there are<br/>strong multicollinearity or other numerical problems."
      ],
      "text/latex": [
       "\\begin{center}\n",
       "\\begin{tabular}{lclc}\n",
       "\\toprule\n",
       "\\textbf{Dep. Variable:}    &        y         & \\textbf{  R-squared:         } &     0.798   \\\\\n",
       "\\textbf{Model:}            &       OLS        & \\textbf{  Adj. R-squared:    } &     0.793   \\\\\n",
       "\\textbf{Method:}           &  Least Squares   & \\textbf{  F-statistic:       } &     147.2   \\\\\n",
       "\\textbf{Date:}             & Sat, 09 Nov 2024 & \\textbf{  Prob (F-statistic):} &  1.10e-62   \\\\\n",
       "\\textbf{Time:}             &     19:42:17     & \\textbf{  Log-Likelihood:    } &   -739.19   \\\\\n",
       "\\textbf{No. Observations:} &         192      & \\textbf{  AIC:               } &     1490.   \\\\\n",
       "\\textbf{Df Residuals:}     &         186      & \\textbf{  BIC:               } &     1510.   \\\\\n",
       "\\textbf{Df Model:}         &           5      & \\textbf{                     } &             \\\\\n",
       "\\textbf{Covariance Type:}  &    nonrobust     & \\textbf{                     } &             \\\\\n",
       "\\bottomrule\n",
       "\\end{tabular}\n",
       "\\begin{tabular}{lcccccc}\n",
       "                   & \\textbf{coef} & \\textbf{std err} & \\textbf{t} & \\textbf{P$> |$t$|$} & \\textbf{[0.025} & \\textbf{0.975]}  \\\\\n",
       "\\midrule\n",
       "\\textbf{Intercept} &     -19.5229  &       14.016     &    -1.393  &         0.165        &      -47.174    &        8.128     \\\\\n",
       "\\textbf{x[0]}      &       0.0850  &        0.005     &    16.239  &         0.000        &        0.075    &        0.095     \\\\\n",
       "\\textbf{x[1]}      &      -0.0147  &        0.013     &    -1.104  &         0.271        &       -0.041    &        0.012     \\\\\n",
       "\\textbf{x[2]}      &       0.0190  &        0.020     &     0.928  &         0.355        &       -0.021    &        0.059     \\\\\n",
       "\\textbf{x[3]}      &       0.0005  &        0.000     &     1.067  &         0.287        &       -0.000    &        0.001     \\\\\n",
       "\\textbf{x[4]}      &     -23.4613  &       85.830     &    -0.273  &         0.785        &     -192.787    &      145.865     \\\\\n",
       "\\bottomrule\n",
       "\\end{tabular}\n",
       "\\begin{tabular}{lclc}\n",
       "\\textbf{Omnibus:}       &  2.639 & \\textbf{  Durbin-Watson:     } &    1.977  \\\\\n",
       "\\textbf{Prob(Omnibus):} &  0.267 & \\textbf{  Jarque-Bera (JB):  } &    2.589  \\\\\n",
       "\\textbf{Skew:}          &  0.282 & \\textbf{  Prob(JB):          } &    0.274  \\\\\n",
       "\\textbf{Kurtosis:}      &  2.926 & \\textbf{  Cond. No.          } & 1.60e+06  \\\\\n",
       "\\bottomrule\n",
       "\\end{tabular}\n",
       "%\\caption{OLS Regression Results}\n",
       "\\end{center}\n",
       "\n",
       "Notes: \\newline\n",
       " [1] Standard Errors assume that the covariance matrix of the errors is correctly specified. \\newline\n",
       " [2] The condition number is large, 1.6e+06. This might indicate that there are \\newline\n",
       " strong multicollinearity or other numerical problems."
      ],
      "text/plain": [
       "<class 'statsmodels.iolib.summary.Summary'>\n",
       "\"\"\"\n",
       "                            OLS Regression Results                            \n",
       "==============================================================================\n",
       "Dep. Variable:                      y   R-squared:                       0.798\n",
       "Model:                            OLS   Adj. R-squared:                  0.793\n",
       "Method:                 Least Squares   F-statistic:                     147.2\n",
       "Date:                Sat, 09 Nov 2024   Prob (F-statistic):           1.10e-62\n",
       "Time:                        19:42:17   Log-Likelihood:                -739.19\n",
       "No. Observations:                 192   AIC:                             1490.\n",
       "Df Residuals:                     186   BIC:                             1510.\n",
       "Df Model:                           5                                         \n",
       "Covariance Type:            nonrobust                                         \n",
       "==============================================================================\n",
       "                 coef    std err          t      P>|t|      [0.025      0.975]\n",
       "------------------------------------------------------------------------------\n",
       "Intercept    -19.5229     14.016     -1.393      0.165     -47.174       8.128\n",
       "x[0]           0.0850      0.005     16.239      0.000       0.075       0.095\n",
       "x[1]          -0.0147      0.013     -1.104      0.271      -0.041       0.012\n",
       "x[2]           0.0190      0.020      0.928      0.355      -0.021       0.059\n",
       "x[3]           0.0005      0.000      1.067      0.287      -0.000       0.001\n",
       "x[4]         -23.4613     85.830     -0.273      0.785    -192.787     145.865\n",
       "==============================================================================\n",
       "Omnibus:                        2.639   Durbin-Watson:                   1.977\n",
       "Prob(Omnibus):                  0.267   Jarque-Bera (JB):                2.589\n",
       "Skew:                           0.282   Prob(JB):                        0.274\n",
       "Kurtosis:                       2.926   Cond. No.                     1.60e+06\n",
       "==============================================================================\n",
       "\n",
       "Notes:\n",
       "[1] Standard Errors assume that the covariance matrix of the errors is correctly specified.\n",
       "[2] The condition number is large, 1.6e+06. This might indicate that there are\n",
       "strong multicollinearity or other numerical problems.\n",
       "\"\"\""
      ]
     },
     "execution_count": 169,
     "metadata": {},
     "output_type": "execute_result"
    }
   ],
   "source": [
    "cols = data.columns\n",
    "\n",
    "x = data[cols[1:6]]\n",
    "y = data['DriversKilled']\n",
    "\n",
    "model = ols('y ~ x', data=data).fit() # 다중 선형회귀분석 모형 구축\n",
    "model.summary() # 다중 선형회귀분석 모형 적합 결과 요약"
   ]
  },
  {
   "cell_type": "code",
   "execution_count": 176,
   "metadata": {},
   "outputs": [
    {
     "name": "stdout",
     "output_type": "stream",
     "text": [
      "DriversKilled      119.00000\n",
      "drivers           1632.00000\n",
      "front              991.00000\n",
      "rear               454.00000\n",
      "kms              11823.00000\n",
      "PetrolPrice          0.10102\n",
      "VanKilled           10.00000\n",
      "law                  0.00000\n",
      "Name: 5, dtype: float64 \n",
      "\n",
      "0    116.772685\n",
      "dtype: float64 \n",
      "\n",
      "[1.87169364]\n"
     ]
    }
   ],
   "source": [
    "# 종속변수 값에 따른 실제값/사망자수 = 119명\n",
    "print(data.iloc[4],'\\n')\n",
    "\n",
    "# 종속변수에 대한 예측값\n",
    "pred = model.predict(exog = dict(x=[[1632,991,454,11823,0.10102]]))\n",
    "print(pred,'\\n')\n",
    "\n",
    "# 실제값과 예측값 사이의 상대오차_절대값(%)\n",
    "relative_error =( data.iloc[4,0] - pred.values )/data.iloc[4,0]*100 \n",
    "print(abs(relative_error))"
   ]
  },
  {
   "cell_type": "markdown",
   "metadata": {},
   "source": [
    "#### 성능평가 지표 (ols로 구축된 회귀 모형식), R-squared"
   ]
  },
  {
   "cell_type": "code",
   "execution_count": 188,
   "metadata": {},
   "outputs": [
    {
     "name": "stdout",
     "output_type": "stream",
     "text": [
      "   DriversKilled  drivers  front  rear    kms  PetrolPrice  VanKilled  law  \\\n",
      "1            107     1687    867   269   9059     0.102972         12    0   \n",
      "2             97     1508    825   265   7685     0.102363          6    0   \n",
      "3            102     1507    806   319   9963     0.102062         12    0   \n",
      "4             87     1385    814   407  10955     0.100873          8    0   \n",
      "5            119     1632    991   454  11823     0.101020         10    0   \n",
      "\n",
      "         pred  \n",
      "1  118.332108  \n",
      "2  102.989283  \n",
      "3  105.350498  \n",
      "4   97.057301  \n",
      "5  116.772692   \n",
      "\n",
      "MSE :  129.28743225237358\n",
      "RMSE :  11.370463150301907\n",
      "MAE :  9.007509477926398\n",
      "MAPE :  0.0765115725606875\n",
      "R Squared(R^2) :  0.7982354684742119\n"
     ]
    }
   ],
   "source": [
    "import numpy as np\n",
    "from sklearn import metrics\n",
    "\n",
    "df = data.copy() # 새로운 열 추가 사용.\n",
    "\n",
    "df['pred'] = model.fittedvalues\n",
    "print(df.head(),'\\n')\n",
    "\n",
    "# print(\"ME : \", (df['DriversKilled']-df['pred']).mean())\n",
    "print(\"MSE : \", metrics.mean_squared_error(y, df['pred']))\n",
    "print(\"RMSE : \", metrics.root_mean_squared_error(y, df['pred'])) # sqrt(MSE)\n",
    "print(\"MAE : \", metrics.mean_absolute_error(y, df['pred']))\n",
    "# print(\"MPE : \", ((y-df['pred'])/y).mean())\n",
    "print(\"MAPE : \", metrics.mean_absolute_percentage_error(y, df['pred']))\n",
    "\n",
    "rsquared = metrics.r2_score(y, df['pred'])\n",
    "print('R Squared(R^2) : ', rsquared)"
   ]
  },
  {
   "cell_type": "markdown",
   "metadata": {},
   "source": [
    "### 변수 선택 방법 _ 전진선택법"
   ]
  },
  {
   "cell_type": "code",
   "execution_count": null,
   "metadata": {},
   "outputs": [
    {
     "data": {
      "text/plain": [
       "['drivers', 'kms']"
      ]
     },
     "execution_count": 190,
     "metadata": {},
     "output_type": "execute_result"
    }
   ],
   "source": [
    "import statsmodels.api as sm\n",
    "\n",
    "def forward_selection(X, y, alpha=0.05):\n",
    "    selected_features = []\n",
    "    remaining_features = set(X.columns)\n",
    "    while remaining_features:\n",
    "        best_pvalue = float('inf') # 초기값 : 양의 무한대\n",
    "        best_feature = None        # 초기값 : None(공집합)\n",
    "        for feature in remaining_features:\n",
    "            candidate_features = selected_features + [feature]\n",
    "            X_subset = X[candidate_features]\n",
    "            X_subset = sm.add_constant(X_subset)    # 상수항 결합\n",
    "            model = sm.OLS(y, X_subset).fit()       # 선형회귀모형 적합\n",
    "            pvalues = model.pvalues                 # 적합 모형의 p-values(유의확률)\n",
    "            max_pvalue = pvalues.iloc[1:].max()     # p-values의 최대값\n",
    "            if max_pvalue < best_pvalue:            # (유의확률 최대값, 유의변수) 수정\n",
    "                best_pvalue = max_pvalue\n",
    "                best_feature = feature\n",
    "        if best_pvalue < alpha:                     # 유의수준과 비교 (유의확률 < 유의수준인 경우 종료)\n",
    "            selected_features.append(best_feature)  # 유의변수 추출\n",
    "            remaining_features.remove(best_feature)\n",
    "        else: break\n",
    "    return selected_features\n",
    "\n",
    "X = data[['drivers','front','rear','kms','PetrolPrice']]\n",
    "y = data[['DriversKilled']]\n",
    "selected_features = forward_selection(X,y)\n",
    "selected_features \n",
    "        "
   ]
  },
  {
   "cell_type": "markdown",
   "metadata": {},
   "source": [
    "## 3. 로지스틱 회귀분석"
   ]
  },
  {
   "cell_type": "code",
   "execution_count": null,
   "metadata": {},
   "outputs": [],
   "source": [
    "from sklearn.linear_model import LogisticRegression\n",
    "from sklearn.preprocessing import StandardScaler #표준화\n",
    "from sklearn.preprocessing import label_binarize #레이블 이진화(다중 클래스)\n",
    "from sklearn.metrics import confusion_matrix #혼동행렬\n",
    "from sklearn.metrics import log_loss #성능분석 지표\n",
    "from sklearn.metrics import classification_report #분류 분석 성능평가 지표\n",
    "from sklearn.metrics import roc_curve #ROC 그래프\n",
    "from sklearn.metrics import auc #AUC 계산\n",
    "from sklearn.metrics import f1_score #F1-score 계산\n",
    "from sklearn.metrics import accuracy_score #정확도 계산\n",
    "from sklearn.metrics import precision_score #정밀도 계산\n",
    "from sklearn.metrics import recall_score #재현율(민감도) 계산\n",
    "from sklearn.model_selection import train_test_split #(학습, 검증) 데이터 랜덤 추출\n",
    "\n",
    "import matplotlib.pyplot as plt"
   ]
  },
  {
   "cell_type": "code",
   "execution_count": 12,
   "metadata": {},
   "outputs": [
    {
     "name": "stdout",
     "output_type": "stream",
     "text": [
      "Index(['sepal length (cm)', 'sepal width (cm)', 'petal length (cm)',\n",
      "       'petal width (cm)'],\n",
      "      dtype='object')\n",
      "98.0\n",
      "['setosa' 'versicolor' 'virginica']\n",
      "(3, 4)\n",
      "[[-2.01795678  2.16894971 -4.16544443 -3.91927077]\n",
      " [ 1.57386885 -0.37329405 -1.97977627 -1.6778015 ]\n",
      " [ 0.44408793 -1.79565566  6.1452207   5.59707228]]\n",
      "[ 0.25538716  4.80583194 -5.0612191 ]\n",
      "\n",
      "[[-0.90068117  1.01900435 -1.34022653 -1.3154443 ]\n",
      " [-1.14301691 -0.13197948 -1.34022653 -1.3154443 ]\n",
      " [-1.38535265  0.32841405 -1.39706395 -1.3154443 ]\n",
      " [-1.50652052  0.09821729 -1.2833891  -1.3154443 ]\n",
      " [-1.02184904  1.24920112 -1.34022653 -1.3154443 ]]\n",
      "[[ 15.02   7.87 -22.89]\n",
      " [ 13.01   7.92 -20.93]\n",
      " [ 14.74   7.48 -22.21]\n",
      " [ 14.01   7.15 -21.16]\n",
      " [ 15.77   7.59 -23.36]]\n",
      "0    setosa\n",
      "1    setosa\n",
      "2    setosa\n",
      "3    setosa\n",
      "4    setosa\n",
      "Name: target, dtype: object  =>  ['setosa' 'setosa' 'setosa' 'setosa' 'setosa']\n",
      "[[0.999 0.001 0.   ]\n",
      " [0.994 0.006 0.   ]\n",
      " [0.999 0.001 0.   ]\n",
      " [0.999 0.001 0.   ]\n",
      " [1.    0.    0.   ]]\n"
     ]
    }
   ],
   "source": [
    "from sklearn.datasets import load_iris\n",
    "from sklearn.linear_model import LogisticRegression\n",
    "from sklearn.preprocessing import StandardScaler\n",
    "import pandas as pd\n",
    "import numpy as np\n",
    "\n",
    "iris = load_iris()\n",
    "irisdata = pd.DataFrame(data=np.c_[iris['data'], iris['target']],\n",
    "                        columns = iris['feature_names']+['target'])\n",
    "irisdata['target'] = irisdata['target'].map({0:'setosa', 1:'versicolor', 2:'virginica'})\n",
    "print(irisdata.columns[:-1])\n",
    "features = irisdata[irisdata.columns[:-1]]\n",
    "labels = irisdata['target']\n",
    "\n",
    "scaler = StandardScaler()\n",
    "scaler.fit(features) # 독립변수 값 계산\n",
    "x = scaler.transform(features) # 독립변수 값 변환(x)\n",
    "\n",
    "model = LogisticRegression(C=20, max_iter=1000)\n",
    "model.fit(x,labels)\n",
    "\n",
    "print(model.score(x, labels)*100)\n",
    "print(model.classes_)\n",
    "print(model.coef_.shape)\n",
    "print(model.coef_) # 각 features의 계수\n",
    "print(model.intercept_) # 각 features의 절편\n",
    "deci = model.decision_function(x[:5]) # 수치로 모델이 얼만큼 확신하는지 알 수 있음.\n",
    "print()\n",
    "print(x[:5])\n",
    "print(np.round(deci,2))\n",
    "print(labels[:5],\" => \",model.predict(x[:5]))\n",
    "\n",
    "prob = model.predict_proba(x[:5])\n",
    "print(np.round(prob,3))\n",
    "\n"
   ]
  },
  {
   "cell_type": "markdown",
   "metadata": {},
   "source": [
    "## 4. 의사결정나무"
   ]
  },
  {
   "cell_type": "markdown",
   "metadata": {},
   "source": [
    "## 5. 인공신경망"
   ]
  },
  {
   "cell_type": "markdown",
   "metadata": {},
   "source": [
    "## 6. 서포트벡터머신"
   ]
  },
  {
   "cell_type": "markdown",
   "metadata": {},
   "source": [
    "## 7. 베이지안 기법"
   ]
  },
  {
   "cell_type": "markdown",
   "metadata": {},
   "source": [
    "## 8. 앙상블 기법"
   ]
  },
  {
   "cell_type": "markdown",
   "metadata": {},
   "source": [
    "## 9. 군집 및 k-NN 분류 분석"
   ]
  },
  {
   "cell_type": "markdown",
   "metadata": {},
   "source": [
    "## 10. 연관성 분석"
   ]
  },
  {
   "cell_type": "markdown",
   "metadata": {},
   "source": [
    "# 4과목"
   ]
  },
  {
   "cell_type": "code",
   "execution_count": null,
   "metadata": {},
   "outputs": [],
   "source": []
  }
 ],
 "metadata": {
  "kernelspec": {
   "display_name": "Python 3",
   "language": "python",
   "name": "python3"
  },
  "language_info": {
   "codemirror_mode": {
    "name": "ipython",
    "version": 3
   },
   "file_extension": ".py",
   "mimetype": "text/x-python",
   "name": "python",
   "nbconvert_exporter": "python",
   "pygments_lexer": "ipython3",
   "version": "3.11.9"
  }
 },
 "nbformat": 4,
 "nbformat_minor": 2
}
