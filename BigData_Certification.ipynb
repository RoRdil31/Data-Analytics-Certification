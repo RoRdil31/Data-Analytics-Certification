{
 "cells": [
  {
   "cell_type": "markdown",
   "metadata": {},
   "source": [
    "# 1과목"
   ]
  },
  {
   "cell_type": "markdown",
   "metadata": {},
   "source": [
    "## Numpy Library 활용 (병합)"
   ]
  },
  {
   "cell_type": "code",
   "execution_count": 5,
   "metadata": {},
   "outputs": [
    {
     "name": "stdout",
     "output_type": "stream",
     "text": [
      "---concatenate---\n",
      "[[ 5  6  7]\n",
      " [ 8  9 10]\n",
      " [11 12 13]\n",
      " [14 15 16]] \n",
      "\n",
      "[[ 5  6  7 11 12 13]\n",
      " [ 8  9 10 14 15 16]] \n",
      "\n",
      "---stack---\n",
      "[[[ 5  6  7]\n",
      "  [ 8  9 10]]\n",
      "\n",
      " [[11 12 13]\n",
      "  [14 15 16]]] \n",
      "\n",
      "[[[ 5  6  7]\n",
      "  [11 12 13]]\n",
      "\n",
      " [[ 8  9 10]\n",
      "  [14 15 16]]] \n",
      "\n",
      "---append---\n",
      "[ 5  6  7  8  9 10 11 12 13 14 15 16] \n",
      "\n",
      "[[ 5  6  7 11 12 13]\n",
      " [ 8  9 10 14 15 16]] \n",
      "\n",
      "---split---\n",
      "[array([[ 5,  6,  7, 11, 12, 13]]), array([[ 8,  9, 10, 14, 15, 16]])] \n",
      "\n",
      "[array([[ 5,  6,  7],\n",
      "       [ 8,  9, 10]]), array([[11, 12, 13],\n",
      "       [14, 15, 16]])] \n",
      "\n"
     ]
    }
   ],
   "source": [
    "import numpy as np\n",
    "a = np.array([1,2,3,4])\n",
    "b = np.array([[5,6,7],[8,9,10]])\n",
    "c = np.array([[11,12,13],[14,15,16]])\n",
    "\n",
    "print(\"---concatenate---\") # => 결과 2차원\n",
    "con2 = np.concatenate((b,c)); print(con2,\"\\n\")\n",
    "con4 = np.concatenate((b,c), axis=1); print(con4,\"\\n\")\n",
    "\n",
    "print(\"---stack---\") # => 결과 3차원\n",
    "stack1 = np.stack((b,c)); print(stack1,\"\\n\")\n",
    "stack2 = np.stack((b,c), axis=1); print(stack2,\"\\n\")\n",
    "\n",
    "print(\"---append---\") # => 결과 1 or 2차원\n",
    "appd1 = np.append(b,c); print(appd1,\"\\n\")\n",
    "appd3 = np.append(b,c, axis=1); print(appd3,\"\\n\")\n",
    "\n",
    "print(\"---split---\")\n",
    "spt1 = np.split(appd3, 2); print(spt1,\"\\n\") # 2구간으로 나눔.\n",
    "spt2 = np.split(appd3, 2, axis=1); print(spt2,\"\\n\")\n"
   ]
  },
  {
   "cell_type": "markdown",
   "metadata": {},
   "source": [
    "## 구조적 프로그래밍"
   ]
  },
  {
   "cell_type": "code",
   "execution_count": 6,
   "metadata": {},
   "outputs": [
    {
     "name": "stdout",
     "output_type": "stream",
     "text": [
      "25.0\n",
      "25.0\n",
      "25.0\n"
     ]
    }
   ],
   "source": [
    "# 보통 함수\n",
    "def getArea(a,b):\n",
    "\tarea = a*b/2\n",
    "\treturn area\n",
    "print(getArea(5,10))\n",
    "\n",
    "# lambda 사용\n",
    "lam = lambda a,b : a*b/2\n",
    "print(lam(5,10))\n",
    "\n",
    "# lambda 사용 (값 지정)\n",
    "lam1 = (lambda a,b : a*b/2)(5,10)\n",
    "print(lam1)"
   ]
  },
  {
   "cell_type": "markdown",
   "metadata": {},
   "source": [
    "### lambda (map, filter)"
   ]
  },
  {
   "cell_type": "code",
   "execution_count": 7,
   "metadata": {},
   "outputs": [
    {
     "name": "stdout",
     "output_type": "stream",
     "text": [
      "[25.0, 33.0, 42.0]\n",
      "[6, 7, 8, 9] \n",
      "\n",
      "[10, 20, 30, 40, 50, 60, 14, 16, 18, 20] \n",
      "\n",
      "[4, 8, 12, 16, 20, 600, 700, 800, 900, 20]\n"
     ]
    }
   ],
   "source": [
    "print(list(map(lambda a,b : a*b/2, [5,6,7],[10,11,12])))\n",
    "\n",
    "x = [1,2,3,4,5,6,7,8,9,10]\n",
    "y = list(filter(lambda t : t>5 and t<10, x))\n",
    "# y2 = list(filter(lambda t : t>5 and t<10)) #안됨. ,x 있어야함.\n",
    "print(y,\"\\n\")\n",
    "\n",
    "z1 = lambda t : t*2 if t>6 else 10*t\n",
    "print(list(map(z1,x)),\"\\n\")\n",
    "\n",
    "z2 = lambda t : t*2 if t>9 else t*4 if t<6 else 100*t # 앞 if-else가 먼저. else일때 다음 if문 봄.\n",
    "print(list(map(z2,x)))"
   ]
  },
  {
   "cell_type": "markdown",
   "metadata": {},
   "source": [
    "### pipe 함수 : 함수 내에 함수를 연속적으로 적용."
   ]
  },
  {
   "cell_type": "code",
   "execution_count": 9,
   "metadata": {},
   "outputs": [
    {
     "name": "stdout",
     "output_type": "stream",
     "text": [
      "[1, 2, 3, 4, 5, 6, 7, 8, 9, 10]\n",
      "   number\n",
      "0       1\n",
      "1       4\n",
      "2       9\n",
      "3      16\n",
      "4      25\n",
      "5      36\n",
      "6      49\n",
      "7      64\n",
      "8      81\n",
      "9     100\n",
      "   number\n",
      "0     1.0\n",
      "1     2.0\n",
      "2     3.0\n",
      "3     4.0\n",
      "4     5.0\n",
      "5     6.0\n",
      "6     7.0\n",
      "7     8.0\n",
      "8     9.0\n",
      "9    10.0\n"
     ]
    }
   ],
   "source": [
    "import pandas as pd\n",
    "d = list(range(1,11,1)); print(d)\n",
    "x = pd.DataFrame(d, columns=['number'])\n",
    "\n",
    "lam1 = lambda t : t**2\n",
    "y = x.pipe(lam1); print(y)\n",
    "\n",
    "lam2 = lambda t : np.sqrt(t)\n",
    "z = x.pipe(lam1).pipe(lam2)\n",
    "print(z)"
   ]
  },
  {
   "cell_type": "markdown",
   "metadata": {},
   "source": [
    "# 2과목"
   ]
  },
  {
   "cell_type": "markdown",
   "metadata": {},
   "source": [
    "## 1. 데이터 수집과 전처리"
   ]
  },
  {
   "cell_type": "markdown",
   "metadata": {},
   "source": [
    "### 방향 순회 (행, 행_tuple)"
   ]
  },
  {
   "cell_type": "code",
   "execution_count": 23,
   "metadata": {},
   "outputs": [
    {
     "name": "stdout",
     "output_type": "stream",
     "text": [
      "1 성명    김민지\n",
      "나이     20\n",
      "Name: 1, dtype: object 김민지\n",
      "2 성명    민지\n",
      "나이    21\n",
      "Name: 2, dtype: object 민지\n",
      "3 성명    감자\n",
      "나이    22\n",
      "Name: 3, dtype: object 감자\n"
     ]
    }
   ],
   "source": [
    "data = pd.DataFrame({'학번':['1','2','3'],\n",
    "                     '성명':['김민지','민지','감자'],\n",
    "                     '나이':[20,21,22]})\n",
    "\n",
    "df = data.set_index('학번')\n",
    "\n",
    "# 행 방향 순회 : iterrows()\n",
    "for idx, row in df.iterrows():\n",
    "    print(idx, row,end=' ')\n",
    "    print(row['성명'])"
   ]
  },
  {
   "cell_type": "code",
   "execution_count": 24,
   "metadata": {},
   "outputs": [
    {
     "name": "stdout",
     "output_type": "stream",
     "text": [
      "Pandas(Index='1', 성명='김민지', 나이=20)\n",
      "1\n",
      "김민지\n",
      "20\n",
      "\n",
      "Pandas(Index='2', 성명='민지', 나이=21)\n",
      "2\n",
      "민지\n",
      "21\n",
      "\n",
      "Pandas(Index='3', 성명='감자', 나이=22)\n",
      "3\n",
      "감자\n",
      "22\n",
      "\n"
     ]
    }
   ],
   "source": [
    "# 행(tuple)별 순회 : itertuples()\n",
    "for item in df.itertuples():\n",
    "    print(item)\n",
    "    for i in range(len(item)):\n",
    "        print(item[i])\n",
    "    print()"
   ]
  },
  {
   "cell_type": "markdown",
   "metadata": {},
   "source": [
    "## 2. 기술통계 분석"
   ]
  },
  {
   "cell_type": "markdown",
   "metadata": {},
   "source": [
    "### 빈도분석 (Crosstab)"
   ]
  },
  {
   "cell_type": "code",
   "execution_count": 26,
   "metadata": {},
   "outputs": [
    {
     "name": "stdout",
     "output_type": "stream",
     "text": [
      "Preference  A  B\n",
      "Gender          \n",
      "Female      2  1\n",
      "Male        1  2\n"
     ]
    }
   ],
   "source": [
    "import pandas as pd\n",
    "\n",
    "data = {'Gender': ['Male', 'Female', 'Female', 'Male', 'Female', 'Male'],\n",
    "        'Preference': ['A', 'A', 'B', 'B', 'A', 'B']}\n",
    "df = pd.DataFrame(data)\n",
    "\n",
    "# Gender와 Preference의 교차표 생성\n",
    "crosstab = pd.crosstab(df['Gender'], df['Preference'])\n",
    "\n",
    "print(crosstab)\n"
   ]
  },
  {
   "cell_type": "markdown",
   "metadata": {},
   "source": [
    "### 기술통계 분석 기법"
   ]
  },
  {
   "cell_type": "markdown",
   "metadata": {},
   "source": [
    "#### 사분위수 (pandas, numpy, describe())\n"
   ]
  },
  {
   "cell_type": "code",
   "execution_count": null,
   "metadata": {},
   "outputs": [],
   "source": [
    "# quantile() 함수 이용 : pandas\n",
    "pd.price.quantile(0.25)\n",
    "\n",
    "# percentile() 함수 이용 : numpy\n",
    "np.percentile(df.price, 25)\n",
    "\n",
    "# describe() method 이용\n",
    "df.price.describe()['25%']"
   ]
  },
  {
   "cell_type": "markdown",
   "metadata": {},
   "source": [
    "#### 최빈값 (Counter 사용)"
   ]
  },
  {
   "cell_type": "code",
   "execution_count": null,
   "metadata": {},
   "outputs": [],
   "source": [
    "from collections import Counter\n",
    "\n",
    "cnt = Counter(df.price)\n",
    "cnt.most_common() #내림차순 정렬.\n",
    "cnt.most_common(7) # 상위 7개 추출."
   ]
  },
  {
   "cell_type": "markdown",
   "metadata": {},
   "source": [
    "#### 왜도, 첨도"
   ]
  },
  {
   "cell_type": "code",
   "execution_count": null,
   "metadata": {},
   "outputs": [],
   "source": [
    "from scipy.stats import skew, kurtosis\n",
    "\n",
    "# scipy.stats 모듈 이용\n",
    "skew(df.price)\n",
    "kurtosis(df.price, fisher=True) # fisher=True: 기준(정규분포의 첨도=0)\n",
    "\n",
    "# pandas 모듈 이용\n",
    "df.price.skew() # 왜도\n",
    "df.price.kurt() # 첨도"
   ]
  },
  {
   "cell_type": "markdown",
   "metadata": {},
   "source": [
    "### EDA"
   ]
  },
  {
   "cell_type": "markdown",
   "metadata": {},
   "source": [
    "#### stem()"
   ]
  },
  {
   "cell_type": "code",
   "execution_count": null,
   "metadata": {},
   "outputs": [],
   "source": [
    "import matplotlib.pyplot as plt\n",
    "import seaborn as sns\n",
    "\n",
    "x = df['1월']\n",
    "y = df['2월']\n",
    "\n",
    "plt.stem(x.index, x, use_line_collection=True) #줄기잎도표(인덱스, 1월, 수직)\n",
    "\n",
    "plt.stem(y.index, y, orientation='horizontal', use_line_collection=True) #줄기잎도표 (인덱스, 2월, 수평)\n"
   ]
  },
  {
   "cell_type": "markdown",
   "metadata": {},
   "source": [
    "#### Q-Q 도표"
   ]
  },
  {
   "cell_type": "code",
   "execution_count": null,
   "metadata": {},
   "outputs": [],
   "source": [
    "import scipy.stats as stats\n",
    "\n",
    "stats.probplot(x, dist=stats.norm, plot=plt)"
   ]
  },
  {
   "cell_type": "markdown",
   "metadata": {},
   "source": [
    "#### 주요 확률분포 클래스, 메소드 및 인수 => 127p"
   ]
  },
  {
   "cell_type": "code",
   "execution_count": 46,
   "metadata": {},
   "outputs": [
    {
     "data": {
      "text/plain": [
       "Text(0, 0.5, 'f(x)')"
      ]
     },
     "execution_count": 46,
     "metadata": {},
     "output_type": "execute_result"
    },
    {
     "data": {
      "image/png": "[encoded data removed]",
      "text/plain": [
       "<Figure size 640x480 with 1 Axes>"
      ]
     },
     "metadata": {},
     "output_type": "display_data"
    }
   ],
   "source": [
    "import matplotlib.pyplot as plt\n",
    "# import scipy as sp\n",
    "import scipy.stats as stats\n",
    "import numpy as np\n",
    "\n",
    "x = np.linspace(-8,8,100) # 표본값 생성\n",
    "rv = stats.norm() # 정규분포\n",
    "pdf = rv.pdf(x) # 확률밀도함수\n",
    "plt.plot(x, pdf); plt.title('Probability Density Function'); plt.xlabel('x value'); plt.ylabel('f(x)')\n"
   ]
  },
  {
   "cell_type": "markdown",
   "metadata": {},
   "source": [
    "# 3과목"
   ]
  },
  {
   "cell_type": "markdown",
   "metadata": {},
   "source": [
    "## 1. 상관관계 분석"
   ]
  },
  {
   "cell_type": "code",
   "execution_count": null,
   "metadata": {},
   "outputs": [],
   "source": [
    "import scipy import stats # 사이파이(가설 검정)\n",
    "import statistics as st # 통계량 (공분산, 상관계수) 계산\n",
    "from scipy.stats import wilcoxon # 윌콕슨 순위 검정 -> 비모수 통계분석"
   ]
  },
  {
   "cell_type": "markdown",
   "metadata": {},
   "source": [
    "### 공분산 & 상관계수"
   ]
  },
  {
   "cell_type": "code",
   "execution_count": null,
   "metadata": {},
   "outputs": [],
   "source": [
    "# 공분산 : 판다스 함수 이용\n",
    "df.cov().iloc[0,1]\n",
    "\n",
    "# 공분산 : statistics 모듈\n",
    "st.covariance(df['height'], df['weight'])\n",
    "\n",
    "# 공분산 : 넘파이 함수 이용\n",
    "np.cov(df['height'], df['weight'], ddof=0) #ddof=0 : 공분산 계산시 모집단 샘플수(n)로 계산."
   ]
  },
  {
   "cell_type": "code",
   "execution_count": null,
   "metadata": {},
   "outputs": [],
   "source": [
    "# 키-몸무게 사이 상관계수 : 판다스 모듈\n",
    "df.corr(method='pearson').iloc[0,1]\n",
    "df.corr(method='kendall').iloc[0,1]\n",
    "df.corr(method='spearman').iloc[0,1]\n",
    "\n",
    "# 키-몸무게 사이 상관계수 : statistics 모듈\n",
    "st.correlation(df['height'], df['weight'])\n",
    "\n",
    "from scipy import stats\n",
    "stats.pearsonr(df['height'], df['weight']) # 사이파이 모듈 이용 (상관계수, p-value)"
   ]
  },
  {
   "cell_type": "markdown",
   "metadata": {},
   "source": [
    "### 가설 검정 (scipy 라이브러리 활용)"
   ]
  },
  {
   "cell_type": "code",
   "execution_count": null,
   "metadata": {},
   "outputs": [],
   "source": [
    "from scipy import stats # 가설검정\n",
    "\n",
    "test = stats.ttest_ind(df['height'], df['weight']) # T-검정(평균 차이 가설검정), 귀무가설 : 키와 몸무게의 평균은 차이가 없다.\n",
    "\n",
    "test # T-검정 결과 (통계량, 유의확률(p-value))\n",
    "test[0], test[1] # 통계량, p-value"
   ]
  },
  {
   "cell_type": "markdown",
   "metadata": {},
   "source": [
    "### 비모수 통계 (윌콕슨 순위합 검정)"
   ]
  },
  {
   "cell_type": "code",
   "execution_count": 73,
   "metadata": {},
   "outputs": [
    {
     "name": "stdout",
     "output_type": "stream",
     "text": [
      "=== 공분산, 상관계수 (판다스 모듈 이용)===\n",
      "     국어        수학   영어\n",
      "국어  4.0  1.000000  1.0\n",
      "수학  1.0  4.333333  2.0\n",
      "영어  1.0  2.000000  1.0\n",
      "          국어        수학        영어\n",
      "국어  1.000000  0.240192  0.500000\n",
      "수학  0.240192  1.000000  0.960769\n",
      "영어  0.500000  0.960769  1.000000\n",
      "--------------------------------------------------------------\n",
      "=== 수학-영어 공분산, 상관계수 (statistics 모듈 이용)===\n",
      "2.0\n",
      "0.9607689228305226\n",
      "--------------------------------------------------------------\n",
      "=== 상관계수, p-value (Scipy 모듈 이용)===\n",
      "PearsonRResult(statistic=0.9607689228305225, pvalue=0.1789123750220675)\n",
      "0.9607689228305225\n",
      "0.1789123750220675\n",
      "--------------------------------------------------------------\n",
      "=== Wilcoxon 검정 결과 (통계량, 유의확률_p-value)===\n",
      "WilcoxonResult(statistic=2.0, pvalue=0.75)\n",
      "2.0\n",
      "0.75\n"
     ]
    }
   ],
   "source": [
    "import pandas as pd\n",
    "from scipy import stats\n",
    "import statistics as st\n",
    "from scipy.stats import wilcoxon\n",
    "import warnings; warnings.filterwarnings('ignore')\n",
    "\n",
    "data = pd.DataFrame({'ID':['1','2','3'],\n",
    "                    #  '성별':['여성','남성','남성'], # string 오류 뜸.\n",
    "                    #  '학년':['1','2','3'],\n",
    "                     '국어':[2,6,4],\n",
    "                     '수학':[2,3,6],\n",
    "                     '영어':[3,4,5]},\n",
    "                    columns = ['ID','국어','수학','영어'])\n",
    "df = data.set_index('ID')\n",
    "\n",
    "print(\"=== 공분산, 상관계수 (판다스 모듈 이용)===\")\n",
    "print(df.cov())\n",
    "print(df.corr())\n",
    "print('--------------------------------------------------------------')\n",
    "print(\"=== 수학-영어 공분산, 상관계수 (statistics 모듈 이용)===\")\n",
    "print(st.covariance(df['수학'], df['영어']))\n",
    "print(st.correlation(df['수학'], df['영어']))\n",
    "print('--------------------------------------------------------------')\n",
    "print(\"=== 상관계수, p-value (Scipy 모듈 이용)===\")\n",
    "print(stats.pearsonr(df['수학'], df['영어']))\n",
    "print(stats.pearsonr(df['수학'], df['영어'])[0])\n",
    "print(stats.pearsonr(df['수학'], df['영어'])[1])\n",
    "print('--------------------------------------------------------------')\n",
    "print(\"=== Wilcoxon 검정 결과 (통계량, 유의확률_p-value)===\")\n",
    "test = wilcoxon(df['수학'], df['영어'])\n",
    "print(test)\n",
    "print(test[0])\n",
    "print(test[1])\n"
   ]
  },
  {
   "cell_type": "markdown",
   "metadata": {},
   "source": [
    "## 2. 회귀분석"
   ]
  },
  {
   "cell_type": "markdown",
   "metadata": {},
   "source": [
    "## 3. 로지스틱 회귀분석"
   ]
  },
  {
   "cell_type": "code",
   "execution_count": 12,
   "metadata": {},
   "outputs": [
    {
     "name": "stdout",
     "output_type": "stream",
     "text": [
      "Index(['sepal length (cm)', 'sepal width (cm)', 'petal length (cm)',\n",
      "       'petal width (cm)'],\n",
      "      dtype='object')\n",
      "98.0\n",
      "['setosa' 'versicolor' 'virginica']\n",
      "(3, 4)\n",
      "[[-2.01795678  2.16894971 -4.16544443 -3.91927077]\n",
      " [ 1.57386885 -0.37329405 -1.97977627 -1.6778015 ]\n",
      " [ 0.44408793 -1.79565566  6.1452207   5.59707228]]\n",
      "[ 0.25538716  4.80583194 -5.0612191 ]\n",
      "\n",
      "[[-0.90068117  1.01900435 -1.34022653 -1.3154443 ]\n",
      " [-1.14301691 -0.13197948 -1.34022653 -1.3154443 ]\n",
      " [-1.38535265  0.32841405 -1.39706395 -1.3154443 ]\n",
      " [-1.50652052  0.09821729 -1.2833891  -1.3154443 ]\n",
      " [-1.02184904  1.24920112 -1.34022653 -1.3154443 ]]\n",
      "[[ 15.02   7.87 -22.89]\n",
      " [ 13.01   7.92 -20.93]\n",
      " [ 14.74   7.48 -22.21]\n",
      " [ 14.01   7.15 -21.16]\n",
      " [ 15.77   7.59 -23.36]]\n",
      "0    setosa\n",
      "1    setosa\n",
      "2    setosa\n",
      "3    setosa\n",
      "4    setosa\n",
      "Name: target, dtype: object  =>  ['setosa' 'setosa' 'setosa' 'setosa' 'setosa']\n",
      "[[0.999 0.001 0.   ]\n",
      " [0.994 0.006 0.   ]\n",
      " [0.999 0.001 0.   ]\n",
      " [0.999 0.001 0.   ]\n",
      " [1.    0.    0.   ]]\n"
     ]
    }
   ],
   "source": [
    "from sklearn.datasets import load_iris\n",
    "from sklearn.linear_model import LogisticRegression\n",
    "from sklearn.preprocessing import StandardScaler\n",
    "import pandas as pd\n",
    "import numpy as np\n",
    "\n",
    "iris = load_iris()\n",
    "irisdata = pd.DataFrame(data=np.c_[iris['data'], iris['target']],\n",
    "                        columns = iris['feature_names']+['target'])\n",
    "irisdata['target'] = irisdata['target'].map({0:'setosa', 1:'versicolor', 2:'virginica'})\n",
    "print(irisdata.columns[:-1])\n",
    "features = irisdata[irisdata.columns[:-1]]\n",
    "labels = irisdata['target']\n",
    "\n",
    "scaler = StandardScaler()\n",
    "scaler.fit(features) # 독립변수 값 계산\n",
    "x = scaler.transform(features) # 독립변수 값 변환(x)\n",
    "\n",
    "model = LogisticRegression(C=20, max_iter=1000)\n",
    "model.fit(x,labels)\n",
    "\n",
    "print(model.score(x, labels)*100)\n",
    "print(model.classes_)\n",
    "print(model.coef_.shape)\n",
    "print(model.coef_) # 각 features의 계수\n",
    "print(model.intercept_) # 각 features의 절편\n",
    "deci = model.decision_function(x[:5]) # 수치로 모델이 얼만큼 확신하는지 알 수 있음.\n",
    "print()\n",
    "print(x[:5])\n",
    "print(np.round(deci,2))\n",
    "print(labels[:5],\" => \",model.predict(x[:5]))\n",
    "\n",
    "prob = model.predict_proba(x[:5])\n",
    "print(np.round(prob,3))\n",
    "\n"
   ]
  },
  {
   "cell_type": "markdown",
   "metadata": {},
   "source": [
    "## 4. 의사결정나무"
   ]
  },
  {
   "cell_type": "markdown",
   "metadata": {},
   "source": [
    "## 5. 인공신경망"
   ]
  },
  {
   "cell_type": "markdown",
   "metadata": {},
   "source": [
    "## 6. 서포트벡터머신"
   ]
  },
  {
   "cell_type": "markdown",
   "metadata": {},
   "source": [
    "## 7. 베이지안 기법"
   ]
  },
  {
   "cell_type": "markdown",
   "metadata": {},
   "source": [
    "## 8. 앙상블 기법"
   ]
  },
  {
   "cell_type": "markdown",
   "metadata": {},
   "source": [
    "## 9. 군집 및 k-NN 분류 분석"
   ]
  },
  {
   "cell_type": "markdown",
   "metadata": {},
   "source": [
    "## 10. 연관성 분석"
   ]
  },
  {
   "cell_type": "markdown",
   "metadata": {},
   "source": [
    "# 4과목"
   ]
  },
  {
   "cell_type": "code",
   "execution_count": null,
   "metadata": {},
   "outputs": [],
   "source": []
  }
 ],
 "metadata": {
  "kernelspec": {
   "display_name": "Python 3",
   "language": "python",
   "name": "python3"
  },
  "language_info": {
   "codemirror_mode": {
    "name": "ipython",
    "version": 3
   },
   "file_extension": ".py",
   "mimetype": "text/x-python",
   "name": "python",
   "nbconvert_exporter": "python",
   "pygments_lexer": "ipython3",
   "version": "3.11.9"
  }
 },
 "nbformat": 4,
 "nbformat_minor": 2
}
