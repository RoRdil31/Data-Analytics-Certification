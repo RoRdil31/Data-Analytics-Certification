{
 "cells": [
  {
   "cell_type": "markdown",
   "metadata": {},
   "source": [
    "# 1과목"
   ]
  },
  {
   "cell_type": "markdown",
   "metadata": {},
   "source": [
    "## Numpy Library 활용 (병합)"
   ]
  },
  {
   "cell_type": "code",
   "execution_count": 1,
   "metadata": {},
   "outputs": [
    {
     "name": "stdout",
     "output_type": "stream",
     "text": [
      "---concatenate---\n",
      "[[ 5  6  7]\n",
      " [ 8  9 10]\n",
      " [11 12 13]\n",
      " [14 15 16]] \n",
      "\n",
      "[[ 5  6  7 11 12 13]\n",
      " [ 8  9 10 14 15 16]] \n",
      "\n",
      "---stack---\n",
      "[[[ 5  6  7]\n",
      "  [ 8  9 10]]\n",
      "\n",
      " [[11 12 13]\n",
      "  [14 15 16]]] \n",
      "\n",
      "[[[ 5  6  7]\n",
      "  [11 12 13]]\n",
      "\n",
      " [[ 8  9 10]\n",
      "  [14 15 16]]] \n",
      "\n",
      "---append---\n",
      "[ 5  6  7  8  9 10 11 12 13 14 15 16] \n",
      "\n",
      "[[ 5  6  7 11 12 13]\n",
      " [ 8  9 10 14 15 16]] \n",
      "\n",
      "---split---\n",
      "[array([[ 5,  6,  7, 11, 12, 13]]), array([[ 8,  9, 10, 14, 15, 16]])] \n",
      "\n",
      "[array([[ 5,  6,  7],\n",
      "       [ 8,  9, 10]]), array([[11, 12, 13],\n",
      "       [14, 15, 16]])] \n",
      "\n"
     ]
    }
   ],
   "source": [
    "import numpy as np\n",
    "a = np.array([1,2,3,4])\n",
    "b = np.array([[5,6,7],[8,9,10]])\n",
    "c = np.array([[11,12,13],[14,15,16]])\n",
    "\n",
    "print(\"---concatenate---\") # => 결과 2차원\n",
    "con2 = np.concatenate((b,c)); print(con2,\"\\n\")\n",
    "con4 = np.concatenate((b,c), axis=1); print(con4,\"\\n\")\n",
    "\n",
    "print(\"---stack---\") # => 결과 3차원\n",
    "stack1 = np.stack((b,c)); print(stack1,\"\\n\")\n",
    "stack2 = np.stack((b,c), axis=1); print(stack2,\"\\n\")\n",
    "\n",
    "print(\"---append---\") # => 결과 1 or 2차원\n",
    "appd1 = np.append(b,c); print(appd1,\"\\n\")\n",
    "appd3 = np.append(b,c, axis=1); print(appd3,\"\\n\")\n",
    "\n",
    "print(\"---split---\")\n",
    "spt1 = np.split(appd3, 2); print(spt1,\"\\n\") # 2구간으로 나눔.\n",
    "spt2 = np.split(appd3, 2, axis=1); print(spt2,\"\\n\")\n"
   ]
  },
  {
   "cell_type": "markdown",
   "metadata": {},
   "source": [
    "## 구조적 프로그래밍"
   ]
  },
  {
   "cell_type": "code",
   "execution_count": 2,
   "metadata": {},
   "outputs": [
    {
     "name": "stdout",
     "output_type": "stream",
     "text": [
      "25.0\n",
      "25.0\n",
      "25.0\n"
     ]
    }
   ],
   "source": [
    "# 보통 함수\n",
    "def getArea(a,b):\n",
    "\tarea = a*b/2\n",
    "\treturn area\n",
    "print(getArea(5,10))\n",
    "\n",
    "# lambda 사용\n",
    "lam = lambda a,b : a*b/2\n",
    "print(lam(5,10))\n",
    "\n",
    "# lambda 사용 (값 지정)\n",
    "lam1 = (lambda a,b : a*b/2)(5,10)\n",
    "print(lam1)"
   ]
  },
  {
   "cell_type": "markdown",
   "metadata": {},
   "source": [
    "### lambda (map, filter)"
   ]
  },
  {
   "cell_type": "code",
   "execution_count": 3,
   "metadata": {},
   "outputs": [
    {
     "name": "stdout",
     "output_type": "stream",
     "text": [
      "[25.0, 33.0, 42.0]\n",
      "[6, 7, 8, 9] \n",
      "\n",
      "[10, 20, 30, 40, 50, 60, 14, 16, 18, 20] \n",
      "\n",
      "[4, 8, 12, 16, 20, 600, 700, 800, 900, 20]\n"
     ]
    }
   ],
   "source": [
    "print(list(map(lambda a,b : a*b/2, [5,6,7],[10,11,12])))\n",
    "\n",
    "x = [1,2,3,4,5,6,7,8,9,10]\n",
    "y = list(filter(lambda t : t>5 and t<10, x))\n",
    "# y2 = list(filter(lambda t : t>5 and t<10)) #안됨. ,x 있어야함.\n",
    "print(y,\"\\n\")\n",
    "\n",
    "z1 = lambda t : t*2 if t>6 else 10*t\n",
    "print(list(map(z1,x)),\"\\n\")\n",
    "\n",
    "z2 = lambda t : t*2 if t>9 else t*4 if t<6 else 100*t # 앞 if-else가 먼저. else일때 다음 if문 봄.\n",
    "print(list(map(z2,x)))"
   ]
  },
  {
   "cell_type": "markdown",
   "metadata": {},
   "source": [
    "### pipe 함수 : 함수 내에 함수를 연속적으로 적용."
   ]
  },
  {
   "cell_type": "code",
   "execution_count": 4,
   "metadata": {},
   "outputs": [
    {
     "name": "stdout",
     "output_type": "stream",
     "text": [
      "[1, 2, 3, 4, 5, 6, 7, 8, 9, 10]\n"
     ]
    },
    {
     "ename": "NameError",
     "evalue": "name 'pd' is not defined",
     "output_type": "error",
     "traceback": [
      "\u001b[1;31m---------------------------------------------------------------------------\u001b[0m",
      "\u001b[1;31mNameError\u001b[0m                                 Traceback (most recent call last)",
      "Cell \u001b[1;32mIn[4], line 2\u001b[0m\n\u001b[0;32m      1\u001b[0m d \u001b[38;5;241m=\u001b[39m \u001b[38;5;28mlist\u001b[39m(\u001b[38;5;28mrange\u001b[39m(\u001b[38;5;241m1\u001b[39m,\u001b[38;5;241m11\u001b[39m,\u001b[38;5;241m1\u001b[39m)); \u001b[38;5;28mprint\u001b[39m(d)\n\u001b[1;32m----> 2\u001b[0m x \u001b[38;5;241m=\u001b[39m \u001b[43mpd\u001b[49m\u001b[38;5;241m.\u001b[39mDataFrame(d, columns\u001b[38;5;241m=\u001b[39m[\u001b[38;5;124m'\u001b[39m\u001b[38;5;124mnumber\u001b[39m\u001b[38;5;124m'\u001b[39m])\n\u001b[0;32m      4\u001b[0m lam1 \u001b[38;5;241m=\u001b[39m \u001b[38;5;28;01mlambda\u001b[39;00m t : t\u001b[38;5;241m*\u001b[39m\u001b[38;5;241m*\u001b[39m\u001b[38;5;241m2\u001b[39m\n\u001b[0;32m      5\u001b[0m y \u001b[38;5;241m=\u001b[39m x\u001b[38;5;241m.\u001b[39mpipe(lam1); \u001b[38;5;28mprint\u001b[39m(y)\n",
      "\u001b[1;31mNameError\u001b[0m: name 'pd' is not defined"
     ]
    }
   ],
   "source": [
    "d = list(range(1,11,1)); print(d)\n",
    "x = pd.DataFrame(d, columns=['number'])\n",
    "\n",
    "lam1 = lambda t : t**2\n",
    "y = x.pipe(lam1); print(y)\n",
    "\n",
    "lam2 = lambda t : np.sqrt(t)\n",
    "z = x.pipe(lam1).pipe(lam2)\n",
    "print(z)"
   ]
  },
  {
   "cell_type": "markdown",
   "metadata": {},
   "source": [
    "# 2과목"
   ]
  },
  {
   "cell_type": "code",
   "execution_count": null,
   "metadata": {},
   "outputs": [
    {
     "name": "stdout",
     "output_type": "stream",
     "text": [
      "1 성명    김민지\n",
      "나이     20\n",
      "Name: 1, dtype: object 김민지\n",
      "2 성명    민지\n",
      "나이    21\n",
      "Name: 2, dtype: object 민지\n",
      "3 성명    감자\n",
      "나이    22\n",
      "Name: 3, dtype: object 감자\n"
     ]
    }
   ],
   "source": [
    "data = pd.DataFrame({'학번':['1','2','3'],\n",
    "                     '성명':['김민지','민지','감자'],\n",
    "                     '나이':[20,21,22]})\n",
    "\n",
    "df = data.set_index('학번')\n",
    "\n",
    "# 행 방향 순회 : iterrows()\n",
    "for idx, row in df.iterrows():\n",
    "    print(idx, row,end=' ')\n",
    "    print(row['성명'])"
   ]
  },
  {
   "cell_type": "code",
   "execution_count": null,
   "metadata": {},
   "outputs": [
    {
     "name": "stdout",
     "output_type": "stream",
     "text": [
      "1\n",
      "김민지\n",
      "20\n",
      "2\n",
      "민지\n",
      "21\n",
      "3\n",
      "감자\n",
      "22\n"
     ]
    }
   ],
   "source": [
    "# 행(tuple)별 순회 : itertuples()\n",
    "for item in df.itertuples():\n",
    "    for i in range(len(item)):\n",
    "        print(item[i])"
   ]
  },
  {
   "cell_type": "markdown",
   "metadata": {},
   "source": [
    "# 3과목"
   ]
  },
  {
   "cell_type": "markdown",
   "metadata": {},
   "source": [
    "## 1. 상관관계 분석"
   ]
  },
  {
   "cell_type": "markdown",
   "metadata": {},
   "source": [
    "## 2. 회귀분석"
   ]
  },
  {
   "cell_type": "markdown",
   "metadata": {},
   "source": [
    "## 3. 로지스틱 회귀분석"
   ]
  },
  {
   "cell_type": "code",
   "execution_count": null,
   "metadata": {},
   "outputs": [
    {
     "name": "stdout",
     "output_type": "stream",
     "text": [
      "Index(['sepal length (cm)', 'sepal width (cm)', 'petal length (cm)',\n",
      "       'petal width (cm)'],\n",
      "      dtype='object')\n",
      "98.0\n",
      "['setosa' 'versicolor' 'virginica']\n",
      "(3, 4)\n",
      "[[-2.01795678  2.16894971 -4.16544443 -3.91927077]\n",
      " [ 1.57386885 -0.37329405 -1.97977627 -1.6778015 ]\n",
      " [ 0.44408793 -1.79565566  6.1452207   5.59707228]]\n",
      "[ 0.25538716  4.80583194 -5.0612191 ]\n",
      "\n",
      "[[-0.90068117  1.01900435 -1.34022653 -1.3154443 ]\n",
      " [-1.14301691 -0.13197948 -1.34022653 -1.3154443 ]\n",
      " [-1.38535265  0.32841405 -1.39706395 -1.3154443 ]\n",
      " [-1.50652052  0.09821729 -1.2833891  -1.3154443 ]\n",
      " [-1.02184904  1.24920112 -1.34022653 -1.3154443 ]]\n",
      "[[ 15.02   7.87 -22.89]\n",
      " [ 13.01   7.92 -20.93]\n",
      " [ 14.74   7.48 -22.21]\n",
      " [ 14.01   7.15 -21.16]\n",
      " [ 15.77   7.59 -23.36]]\n",
      "0    setosa\n",
      "1    setosa\n",
      "2    setosa\n",
      "3    setosa\n",
      "4    setosa\n",
      "Name: target, dtype: object  =>  ['setosa' 'setosa' 'setosa' 'setosa' 'setosa']\n",
      "[[0.999 0.001 0.   ]\n",
      " [0.994 0.006 0.   ]\n",
      " [0.999 0.001 0.   ]\n",
      " [0.999 0.001 0.   ]\n",
      " [1.    0.    0.   ]]\n"
     ]
    }
   ],
   "source": [
    "from sklearn.datasets import load_iris\n",
    "from sklearn.linear_model import LogisticRegression\n",
    "from sklearn.preprocessing import StandardScaler\n",
    "import pandas as pd\n",
    "import numpy as np\n",
    "\n",
    "iris = load_iris()\n",
    "irisdata = pd.DataFrame(data=np.c_[iris['data'], iris['target']],\n",
    "                        columns = iris['feature_names']+['target'])\n",
    "irisdata['target'] = irisdata['target'].map({0:'setosa', 1:'versicolor', 2:'virginica'})\n",
    "print(irisdata.columns[:-1])\n",
    "features = irisdata[irisdata.columns[:-1]]\n",
    "labels = irisdata['target']\n",
    "\n",
    "scaler = StandardScaler()\n",
    "scaler.fit(features) # 독립변수 값 계산\n",
    "x = scaler.transform(features) # 독립변수 값 변환(x)\n",
    "\n",
    "model = LogisticRegression(C=20, max_iter=1000)\n",
    "model.fit(x,labels)\n",
    "\n",
    "print(model.score(x, labels)*100)\n",
    "print(model.classes_)\n",
    "print(model.coef_.shape)\n",
    "print(model.coef_) # 각 features의 계수\n",
    "print(model.intercept_) # 각 features의 절편\n",
    "deci = model.decision_function(x[:5]) # 수치로 모델이 얼만큼 확신하는지 알 수 있음.\n",
    "print()\n",
    "print(x[:5])\n",
    "print(np.round(deci,2))\n",
    "print(labels[:5],\" => \",model.predict(x[:5]))\n",
    "\n",
    "prob = model.predict_proba(x[:5])\n",
    "print(np.round(prob,3))\n",
    "\n"
   ]
  },
  {
   "cell_type": "markdown",
   "metadata": {},
   "source": [
    "## 4. 의사결정나무"
   ]
  },
  {
   "cell_type": "markdown",
   "metadata": {},
   "source": [
    "## 5. 인공신경망"
   ]
  },
  {
   "cell_type": "markdown",
   "metadata": {},
   "source": [
    "## 6. 서포트벡터머신"
   ]
  },
  {
   "cell_type": "markdown",
   "metadata": {},
   "source": [
    "## 7. 베이지안 기법"
   ]
  },
  {
   "cell_type": "markdown",
   "metadata": {},
   "source": [
    "## 8. 앙상블 기법"
   ]
  },
  {
   "cell_type": "markdown",
   "metadata": {},
   "source": [
    "## 9. 군집 및 k-NN 분류 분석"
   ]
  },
  {
   "cell_type": "markdown",
   "metadata": {},
   "source": [
    "## 10. 연관성 분석"
   ]
  },
  {
   "cell_type": "markdown",
   "metadata": {},
   "source": [
    "# 4과목"
   ]
  },
  {
   "cell_type": "code",
   "execution_count": null,
   "metadata": {},
   "outputs": [],
   "source": []
  }
 ],
 "metadata": {
  "kernelspec": {
   "display_name": "Python 3",
   "language": "python",
   "name": "python3"
  },
  "language_info": {
   "codemirror_mode": {
    "name": "ipython",
    "version": 3
   },
   "file_extension": ".py",
   "mimetype": "text/x-python",
   "name": "python",
   "nbconvert_exporter": "python",
   "pygments_lexer": "ipython3",
   "version": "3.11.9"
  }
 },
 "nbformat": 4,
 "nbformat_minor": 2
}
